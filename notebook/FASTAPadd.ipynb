{
 "cells": [
  {
   "cell_type": "code",
   "execution_count": 76,
   "metadata": {},
   "outputs": [],
   "source": [
    "from Bio import SeqIO, pairwise2\n",
    "from Bio.Seq import Seq\n",
    "from Bio.SeqRecord import SeqRecord\n",
    "from Bio.pairwise2 import format_alignment\n",
    "\n",
    "import pandas as pd\n",
    "import numpy as np\n",
    "from tqdm import tqdm"
   ]
  },
  {
   "cell_type": "markdown",
   "metadata": {},
   "source": [
    "1. iLearnPlusで記述子を計算するためには, 配列長がすべて揃ってないとならない  \n",
    "2. 配列paddingをかけないとiLearnPlusでは記述子算出ができない  \n",
    "3. FASTAのdescriptionが入っていないとエラーが出る\n",
    "4. iLearnPlusではCSV出力するときにファイル名に.csvをつけないと正しく保存されない"
   ]
  },
  {
   "cell_type": "markdown",
   "metadata": {},
   "source": [
    "### iLearn sample"
   ]
  },
  {
   "cell_type": "markdown",
   "metadata": {},
   "source": [
    "load"
   ]
  },
  {
   "cell_type": "code",
   "execution_count": 54,
   "metadata": {},
   "outputs": [],
   "source": [
    "fasta_path = '../data/DeepPPI/DeepPPI.fasta'\n",
    "seq_dict = {}\n",
    "for i, record in enumerate(SeqIO.parse(fasta_path, 'fasta')):\n",
    "    if i == 100:\n",
    "        break\n",
    "    else:\n",
    "        Id = record.id.split('|')[1]\n",
    "        seq = str(record.seq)\n",
    "        seq_dict[str(Id)] = seq"
   ]
  },
  {
   "cell_type": "markdown",
   "metadata": {},
   "source": [
    " sequence padding"
   ]
  },
  {
   "cell_type": "code",
   "execution_count": 114,
   "metadata": {},
   "outputs": [
    {
     "name": "stderr",
     "output_type": "stream",
     "text": [
      "100%|██████████| 100/100 [00:00<00:00, 45959.94it/s]\n"
     ]
    }
   ],
   "source": [
    "sequences = np.array([str(v) for v in seq_dict.values()])\n",
    "Ids = np.array([str(k) for k in seq_dict.keys()])\n",
    "sequences_sorted = sequences[np.argsort([-len(s) for s in sequences])]\n",
    "\n",
    "sequences_align = []\n",
    "for seq in tqdm(sequences_sorted):\n",
    "    if len(seq) < len(sequences_sorted[0]):\n",
    "        seq = seq + '-'*(len(sequences_sorted[0]) - len(seq))\n",
    "    sequences_align.append(seq)"
   ]
  },
  {
   "cell_type": "markdown",
   "metadata": {},
   "source": [
    "save"
   ]
  },
  {
   "cell_type": "code",
   "execution_count": 115,
   "metadata": {},
   "outputs": [],
   "source": [
    "f_name =  f'../data/DeepPPI/DeepPPI_sample.fasta'\n",
    "f = open(f_name, 'w')\n",
    "for i, seq in enumerate(sequences_align):\n",
    "    record = SeqRecord(Seq(seq), id=str(i), description='DeepPPI')\n",
    "    SeqIO.write(record, f, \"fasta\")\n",
    "f.close()"
   ]
  },
  {
   "cell_type": "markdown",
   "metadata": {},
   "source": [
    "# DeepPPI padding"
   ]
  },
  {
   "cell_type": "code",
   "execution_count": 138,
   "metadata": {},
   "outputs": [
    {
     "name": "stderr",
     "output_type": "stream",
     "text": [
      "100%|██████████| 4424/4424 [00:00<00:00, 41693.29it/s]\n",
      "100%|██████████| 4424/4424 [00:00<00:00, 11475.21it/s]\n"
     ]
    }
   ],
   "source": [
    "fasta_path = '../data/DeepPPI/DeepPPI.fasta'\n",
    "seq_dict = {}\n",
    "for i, record in enumerate(tqdm(SeqIO.parse(fasta_path, 'fasta'), total=4424)):\n",
    "    Id = record.id.split('|')[1]\n",
    "    seq = str(record.seq)\n",
    "    if len(seq) < 4910:\n",
    "       seq = seq + '-'*(4910-len(seq)) \n",
    "    seq_dict[str(Id)] = seq\n",
    "\n",
    "chunk_size = 5\n",
    "remainder = len(seq_dict)%chunk_size\n",
    "resize = (chunk_size-remainder) + len(seq_dict)\n",
    "idxes = np.split(np.arange(resize), chunk_size)\n",
    "flag_idxes = [idx[0] for idx in idxes]\n",
    "for i, (Id, seq) in tqdm(enumerate(seq_dict.items()), total=len(seq_dict)):\n",
    "    for flag_idx in flag_idxes:\n",
    "        if  i == flag_idx:\n",
    "            f.close()\n",
    "            f_name =  f'../data/DeepPPI/DeepPPI_Padd_{flag_idxes.index(i)}.fasta'\n",
    "            f = open(f_name, 'w')\n",
    "    record = SeqRecord(Seq(seq), id=Id, description='DeepPPI')\n",
    "    SeqIO.write(record, f, \"fasta\")\n",
    "f.close()"
   ]
  },
  {
   "cell_type": "markdown",
   "metadata": {},
   "source": [
    "# DeepLoc padding"
   ]
  },
  {
   "cell_type": "code",
   "execution_count": 139,
   "metadata": {},
   "outputs": [
    {
     "name": "stderr",
     "output_type": "stream",
     "text": [
      "100%|██████████| 8464/8464 [00:01<00:00, 6568.92it/s]\n"
     ]
    }
   ],
   "source": [
    "df = pd.read_csv('../data/DeepLoc/DeepLocAll.csv')\n",
    "sequences = [''.join(seq.split()) for seq in df.iloc[:,0]]\n",
    "max_length = max(len(seq) for seq in sequences)\n",
    "\n",
    "chunk_size = 5\n",
    "remainder = len(sequences)%chunk_size\n",
    "resize = (chunk_size-remainder) + len(sequences)\n",
    "idxes = np.split(np.arange(resize), chunk_size)\n",
    "flag_idxes = [idx[0] for idx in idxes]\n",
    "for i, seq in tqdm(enumerate(sequences), total=len(sequences)):\n",
    "    for flag_idx in flag_idxes:\n",
    "        if  i == flag_idx:\n",
    "            f.close()\n",
    "            f_name =  f'../data/DeepLoc/DeepLoc_Padd_{flag_idxes.index(i)}.fasta'\n",
    "            f = open(f_name, 'w')\n",
    "    if len(seq) < max_length:\n",
    "        seq = seq + '-'*(max_length - len(seq))\n",
    "    record = SeqRecord(Seq(seq), id=str(i), description='DeepLoc')\n",
    "    SeqIO.write(record, f, \"fasta\")\n",
    "f.close()"
   ]
  }
 ],
 "metadata": {
  "interpreter": {
   "hash": "b3e12de8d4f511a3f40a134d20c84f219b709a35adcae8dcc2b376a736afcf2a"
  },
  "kernelspec": {
   "display_name": "Python 3.8.5 ('bioenv_ver0.1')",
   "language": "python",
   "name": "python3"
  },
  "language_info": {
   "codemirror_mode": {
    "name": "ipython",
    "version": 3
   },
   "file_extension": ".py",
   "mimetype": "text/x-python",
   "name": "python",
   "nbconvert_exporter": "python",
   "pygments_lexer": "ipython3",
   "version": "3.8.5"
  },
  "orig_nbformat": 4
 },
 "nbformat": 4,
 "nbformat_minor": 2
}
