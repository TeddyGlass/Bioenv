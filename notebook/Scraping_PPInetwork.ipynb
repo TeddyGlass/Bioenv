{
 "cells": [
  {
   "cell_type": "code",
   "execution_count": 1,
   "metadata": {},
   "outputs": [],
   "source": [
    "import numpy as np"
   ]
  },
  {
   "cell_type": "markdown",
   "metadata": {},
   "source": [
    "# Sort proteins of STRING"
   ]
  },
  {
   "cell_type": "code",
   "execution_count": 2,
   "metadata": {},
   "outputs": [],
   "source": [
    "f_name = '../data/PPInetwork/STRING/9606.protein.links.v11.5.txt'\n",
    "f = open(f_name, 'r')\n",
    "data = f.read()\n",
    "rows = data.split('\\n')[1:-1]\n",
    "\n",
    "all_protein = [None]*2*len(rows)\n",
    "for i, r in enumerate(rows):\n",
    "    proteins = r.split()\n",
    "    all_protein[i] = proteins[0]\n",
    "    all_protein[-(i+1)] = proteins[1]\n",
    "unipue_protein = list(set(all_protein))"
   ]
  },
  {
   "cell_type": "code",
   "execution_count": 3,
   "metadata": {},
   "outputs": [
    {
     "data": {
      "text/plain": [
       "['9606.ENSP00000230658',\n",
       " '9606.ENSP00000266376',\n",
       " '9606.ENSP00000322276',\n",
       " '9606.ENSP00000246006',\n",
       " '9606.ENSP00000246957',\n",
       " '9606.ENSP00000322784',\n",
       " '9606.ENSP00000367746',\n",
       " '9606.ENSP00000310263',\n",
       " '9606.ENSP00000340648',\n",
       " '9606.ENSP00000379203']"
      ]
     },
     "execution_count": 3,
     "metadata": {},
     "output_type": "execute_result"
    }
   ],
   "source": [
    "unipue_protein[:10]"
   ]
  },
  {
   "cell_type": "markdown",
   "metadata": {},
   "source": [
    "# Scraping\n",
    "webページがjavascriptで書かれててうまく情報がしゅとくできなかったので、selenuiumでスクレイピングする"
   ]
  },
  {
   "cell_type": "code",
   "execution_count": 28,
   "metadata": {},
   "outputs": [],
   "source": [
    "from bs4 import BeautifulSoup\n",
    "import requests\n",
    "from selenium import webdriver\n",
    "from webdriver_manager.chrome import  ChromeDriverManager\n",
    "from tqdm import tqdm\n",
    "import time"
   ]
  },
  {
   "cell_type": "code",
   "execution_count": 73,
   "metadata": {},
   "outputs": [
    {
     "name": "stdout",
     "output_type": "stream",
     "text": [
      "\n"
     ]
    },
    {
     "name": "stderr",
     "output_type": "stream",
     "text": [
      "100%|██████████| 19385/19385 [4:47:31<00:00,  1.12it/s]  \n"
     ]
    }
   ],
   "source": [
    "# settings\n",
    "options = webdriver.ChromeOptions()\n",
    "options.add_argument('--headless')\n",
    "driver = webdriver.Chrome(\n",
    "        ChromeDriverManager().install(),\n",
    "        options=options\n",
    "        )\n",
    "\n",
    "entries = {\n",
    "    k:None\n",
    "    for k in unipue_protein\n",
    "}\n",
    "for i, protein in enumerate(tqdm(unipue_protein, total=len(unipue_protein))):  \n",
    "    try:\n",
    "        url =  f'https://www.uniprot.org/uniprotkb?query={protein}'\n",
    "        driver.get(url)\n",
    "        time.sleep(0.5)\n",
    "        # slect UIs\n",
    "        if i == 0:\n",
    "            time.sleep(2)\n",
    "            driver.find_element_by_xpath('/html/body/form/div/span/label[2]/input').click()\n",
    "            driver.find_element_by_xpath('/html/body/form/div/section/button').click()\n",
    "        # analyze web page information\n",
    "        html = driver.page_source\n",
    "        soup = BeautifulSoup(html, \"html.parser\")\n",
    "        # get protein name\n",
    "        items = soup.findAll(class_='BqBnJ')\n",
    "        entries[protein] = [item.text for item in items]\n",
    "    except Exception as e:\n",
    "        pass\n",
    "driver.close()"
   ]
  },
  {
   "cell_type": "code",
   "execution_count": 77,
   "metadata": {},
   "outputs": [],
   "source": [
    "import json\n",
    "\n",
    "with open('../data/PPInetwork/STRING/STRINGId_UniProtId.json', 'w') as f:\n",
    "    json.dump(entries,f)"
   ]
  },
  {
   "cell_type": "markdown",
   "metadata": {},
   "source": [
    "# Download FASTA and GO annotations from Uniprot"
   ]
  },
  {
   "cell_type": "code",
   "execution_count": 78,
   "metadata": {},
   "outputs": [],
   "source": [
    "import json\n",
    "import requests"
   ]
  },
  {
   "cell_type": "code",
   "execution_count": 79,
   "metadata": {},
   "outputs": [],
   "source": [
    "f_name = '../data/PPInetwork/STRING/STRINGId_UniProtId.json'\n",
    "with open(f_name, 'r') as f:\n",
    "    string_uniprot_dict = json.load(f)"
   ]
  },
  {
   "cell_type": "code",
   "execution_count": 80,
   "metadata": {},
   "outputs": [],
   "source": [
    "all_uniprot_Ids = []\n",
    "for value in string_uniprot_dict.values():\n",
    "    for item in value:\n",
    "        all_uniprot_Ids.append(item)\n",
    "unique_uniprot_Ids = list(set(all_uniprot_Ids))"
   ]
  },
  {
   "cell_type": "code",
   "execution_count": 115,
   "metadata": {},
   "outputs": [
    {
     "name": "stderr",
     "output_type": "stream",
     "text": [
      "  6%|▋         | 1385/21719 [23:22<32:25:29,  5.74s/it]"
     ]
    },
    {
     "name": "stdout",
     "output_type": "stream",
     "text": [
      "1384 HTTPSConnectionPool(host='rest.uniprot.org', port=443): Max retries exceeded with url: /uniprotkb/Q9UL52.txt (Caused by SSLError(SSLZeroReturnError(6, 'TLS/SSL connection has been closed (EOF) (_ssl.c:1123)')))\n"
     ]
    },
    {
     "name": "stderr",
     "output_type": "stream",
     "text": [
      "  7%|▋         | 1504/21719 [26:49<49:26:18,  8.80s/it]"
     ]
    },
    {
     "name": "stdout",
     "output_type": "stream",
     "text": [
      "1503 ('Connection aborted.', RemoteDisconnected('Remote end closed connection without response'))\n"
     ]
    },
    {
     "name": "stderr",
     "output_type": "stream",
     "text": [
      "  7%|▋         | 1524/21719 [28:16<51:46:10,  9.23s/it]"
     ]
    },
    {
     "name": "stdout",
     "output_type": "stream",
     "text": [
      "1523 ('Connection aborted.', RemoteDisconnected('Remote end closed connection without response'))\n"
     ]
    },
    {
     "name": "stderr",
     "output_type": "stream",
     "text": [
      "  7%|▋         | 1528/21719 [29:33<88:14:43, 15.73s/it]"
     ]
    },
    {
     "name": "stdout",
     "output_type": "stream",
     "text": [
      "1527 ('Connection aborted.', RemoteDisconnected('Remote end closed connection without response'))\n"
     ]
    },
    {
     "name": "stderr",
     "output_type": "stream",
     "text": [
      "  8%|▊         | 1697/21719 [51:14<1670:51:51, 300.43s/it]"
     ]
    },
    {
     "name": "stdout",
     "output_type": "stream",
     "text": [
      "1696 ('Connection aborted.', TimeoutError(110, 'Connection timed out'))\n"
     ]
    },
    {
     "name": "stderr",
     "output_type": "stream",
     "text": [
      " 14%|█▍        | 3000/21719 [1:28:21<74:07:39, 14.26s/it] "
     ]
    },
    {
     "name": "stdout",
     "output_type": "stream",
     "text": [
      "2999 HTTPSConnectionPool(host='rest.uniprot.org', port=443): Max retries exceeded with url: /uniprotkb/A8K9Q8.fasta (Caused by SSLError(SSLZeroReturnError(6, 'TLS/SSL connection has been closed (EOF) (_ssl.c:1123)')))\n"
     ]
    },
    {
     "name": "stderr",
     "output_type": "stream",
     "text": [
      " 30%|██▉       | 6508/21719 [2:59:43<33:39:26,  7.97s/it]"
     ]
    },
    {
     "name": "stdout",
     "output_type": "stream",
     "text": [
      "6507 HTTPSConnectionPool(host='rest.uniprot.org', port=443): Max retries exceeded with url: /uniprotkb/Q8N4V1.txt (Caused by SSLError(SSLZeroReturnError(6, 'TLS/SSL connection has been closed (EOF) (_ssl.c:1123)')))\n"
     ]
    },
    {
     "name": "stderr",
     "output_type": "stream",
     "text": [
      "100%|██████████| 21719/21719 [9:15:21<00:00,  1.53s/it]  \n"
     ]
    }
   ],
   "source": [
    "for i, entry in enumerate(tqdm(unique_uniprot_Ids, total = len(unique_uniprot_Ids))):\n",
    "    if i >= 450:\n",
    "        try:\n",
    "            url_fasta = f'https://rest.uniprot.org/uniprotkb/{entry}.fasta'\n",
    "            url_text = f'https://rest.uniprot.org/uniprotkb/{entry}.txt'\n",
    "            response_fasta = requests.get(url_fasta)\n",
    "            response_text = requests.get(url_text)\n",
    "            if response_fasta.status_code == 200 and response_text.status_code== 200:\n",
    "                fasta = response_fasta.content\n",
    "                text = response_text.content\n",
    "                with open(f'../data/PPInetwork/STRING/UniProt/fasta/{entry}.fasta', 'wb') as f:\n",
    "                    f.write(fasta)\n",
    "                with open(f'../data/PPInetwork/STRING/UniProt/text/{entry}.text', 'wb') as f:\n",
    "                    f.write(text)\n",
    "            else:\n",
    "                print(i)\n",
    "        except Exception as e:\n",
    "            print(i, e)\n",
    "            pass"
   ]
  },
  {
   "cell_type": "code",
   "execution_count": null,
   "metadata": {},
   "outputs": [],
   "source": []
  }
 ],
 "metadata": {
  "interpreter": {
   "hash": "b3e12de8d4f511a3f40a134d20c84f219b709a35adcae8dcc2b376a736afcf2a"
  },
  "kernelspec": {
   "display_name": "Python 3.8.5 ('bioenv_ver0.1')",
   "language": "python",
   "name": "python3"
  },
  "language_info": {
   "codemirror_mode": {
    "name": "ipython",
    "version": 3
   },
   "file_extension": ".py",
   "mimetype": "text/x-python",
   "name": "python",
   "nbconvert_exporter": "python",
   "pygments_lexer": "ipython3",
   "version": "3.8.5"
  },
  "orig_nbformat": 4
 },
 "nbformat": 4,
 "nbformat_minor": 2
}
