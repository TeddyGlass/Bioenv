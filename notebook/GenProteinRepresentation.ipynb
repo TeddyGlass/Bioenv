{
 "cells": [
  {
   "cell_type": "markdown",
   "metadata": {},
   "source": [
    "# GPU setting"
   ]
  },
  {
   "cell_type": "code",
   "execution_count": 1,
   "metadata": {},
   "outputs": [],
   "source": [
    "import os\n",
    "os.environ['CUDA_VISIBLE_DEVICES'] = '1'"
   ]
  },
  {
   "cell_type": "markdown",
   "metadata": {},
   "source": [
    "# Import library"
   ]
  },
  {
   "cell_type": "code",
   "execution_count": 1,
   "metadata": {},
   "outputs": [],
   "source": [
    "from Embedding import Embedder\n",
    "import pandas as pd\n",
    "import numpy as np\n",
    "import torch"
   ]
  },
  {
   "cell_type": "markdown",
   "metadata": {},
   "source": [
    "# Functions"
   ]
  },
  {
   "cell_type": "code",
   "execution_count": 2,
   "metadata": {},
   "outputs": [],
   "source": [
    "def get_gpu_properties():\n",
    "    print('-'*100)\n",
    "    print('GPU availability:', torch.cuda.is_available())\n",
    "    print('-'*100)\n",
    "    print('Available GPU counts:', torch.cuda.device_count())\n",
    "    for i in range(torch.cuda.device_count()):\n",
    "        print(i, torch.cuda.get_device_name(i))\n",
    "    print('-'*100)\n",
    "    print('Current device:', torch.cuda.current_device(), torch.cuda.get_device_name(torch.cuda.current_device()))\n",
    "    print('-'*100)"
   ]
  },
  {
   "cell_type": "markdown",
   "metadata": {},
   "source": [
    "# Chec GPU properties"
   ]
  },
  {
   "cell_type": "code",
   "execution_count": 3,
   "metadata": {},
   "outputs": [
    {
     "name": "stdout",
     "output_type": "stream",
     "text": [
      "----------------------------------------------------------------------------------------------------\n",
      "GPU availability: True\n",
      "----------------------------------------------------------------------------------------------------\n",
      "Available GPU counts: 4\n",
      "0 NVIDIA Tesla V100-DGXS-32GB\n",
      "1 NVIDIA Tesla V100-DGXS-32GB\n",
      "2 NVIDIA Tesla V100-DGXS-32GB\n",
      "3 NVIDIA Tesla V100-DGXS-32GB\n",
      "----------------------------------------------------------------------------------------------------\n",
      "Current device: 0 NVIDIA Tesla V100-DGXS-32GB\n",
      "----------------------------------------------------------------------------------------------------\n"
     ]
    }
   ],
   "source": [
    "get_gpu_properties()"
   ]
  },
  {
   "cell_type": "markdown",
   "metadata": {},
   "source": [
    "# load DeepLoc data set"
   ]
  },
  {
   "cell_type": "code",
   "execution_count": 8,
   "metadata": {},
   "outputs": [],
   "source": [
    "df = pd.read_csv('../data/DeepLoc/DeepLocAll.csv')\n",
    "sequences = df.iloc[:,0].tolist()\n",
    "sequences = [''.join(seq.split()) for seq in sequences]"
   ]
  },
  {
   "cell_type": "code",
   "execution_count": 6,
   "metadata": {},
   "outputs": [
    {
     "name": "stderr",
     "output_type": "stream",
     "text": [
      "Some weights of the model checkpoint at /home/kurosaki/.cache/bio_embeddings/prottrans_bert_bfd/model_directory were not used when initializing BertModel: ['cls.predictions.bias', 'cls.seq_relationship.bias', 'cls.seq_relationship.weight', 'cls.predictions.transform.dense.weight', 'cls.predictions.transform.LayerNorm.weight', 'cls.predictions.transform.dense.bias', 'cls.predictions.transform.LayerNorm.bias', 'cls.predictions.decoder.weight', 'cls.predictions.decoder.bias']\n",
      "- This IS expected if you are initializing BertModel from the checkpoint of a model trained on another task or with another architecture (e.g. initializing a BertForSequenceClassification model from a BertForPreTraining model).\n",
      "- This IS NOT expected if you are initializing BertModel from the checkpoint of a model that you expect to be exactly identical (initializing a BertForSequenceClassification model from a BertForSequenceClassification model).\n"
     ]
    }
   ],
   "source": [
    "for name in ['Albert_BFD', 'BERT_BFD', 'T5_BFD', 'T5_FT', 'XLNet_Uniref100']:\n",
    "    embedder = Embedder()\n",
    "    if name == 'Albert_BFD':\n",
    "        feature = embedder.albert_embedding(sequences)\n",
    "    if name == 'BERT_BFD':\n",
    "        feature = embedder.bert_embedding(sequences)\n",
    "    if name == 'T5_BFD':\n",
    "        feature = embedder.t5_embedding(sequences)\n",
    "    if name == 'T5_FT':\n",
    "        feature = embedder.t5ft_embedding(sequences)\n",
    "    if name == 'XLNet_Uniref100':\n",
    "        feature = embedder.xlnet_embedding(sequences)\n",
    "    pd.concat([df.iloc[:,1:], pd.DataFrame(feature)], axis=1).to_csv(f'../data/DeepLoc/DeepLocEmbedd_{name}.csv', index=False)"
   ]
  },
  {
   "cell_type": "code",
   "execution_count": null,
   "metadata": {},
   "outputs": [],
   "source": []
  },
  {
   "cell_type": "code",
   "execution_count": null,
   "metadata": {},
   "outputs": [],
   "source": []
  },
  {
   "cell_type": "code",
   "execution_count": null,
   "metadata": {},
   "outputs": [],
   "source": []
  },
  {
   "cell_type": "code",
   "execution_count": null,
   "metadata": {},
   "outputs": [],
   "source": []
  },
  {
   "cell_type": "code",
   "execution_count": 1,
   "metadata": {},
   "outputs": [],
   "source": [
    "from bio_embeddings import embed\n",
    "import pandas as pd\n",
    "import numpy as np\n",
    "from Bio import SeqIO\n",
    "from Bio.Seq import Seq\n",
    "from Bio.SeqRecord import SeqRecord\n",
    "from tqdm import tqdm"
   ]
  },
  {
   "cell_type": "markdown",
   "metadata": {},
   "source": [
    "# load embedding models"
   ]
  },
  {
   "cell_type": "markdown",
   "metadata": {},
   "source": [
    "# DeepLoc"
   ]
  },
  {
   "cell_type": "code",
   "execution_count": 6,
   "metadata": {},
   "outputs": [
    {
     "name": "stderr",
     "output_type": "stream",
     "text": [
      "RuntimeError for sequence with 6620 residues: CUDA out of memory. Tried to allocate 10.46 GiB (GPU 0; 31.74 GiB total capacity; 13.37 GiB already allocated; 10.18 GiB free; 19.95 GiB reserved in total by PyTorch). This most likely means that you don't have enough GPU RAM to embed a protein this long. Embedding on the CPU instead, which is very slow\n",
      "Some weights of the model checkpoint at /home/kurosaki/.cache/bio_embeddings/prottrans_albert_bfd/model_directory were not used when initializing AlbertModel: ['predictions.decoder.bias', 'predictions.dense.weight', 'predictions.LayerNorm.bias', 'sop_classifier.classifier.weight', 'predictions.dense.bias', 'sop_classifier.classifier.bias', 'predictions.decoder.weight', 'predictions.LayerNorm.weight', 'predictions.bias']\n",
      "- This IS expected if you are initializing AlbertModel from the checkpoint of a model trained on another task or with another architecture (e.g. initializing a BertForSequenceClassification model from a BertForPreTraining model).\n",
      "- This IS NOT expected if you are initializing AlbertModel from the checkpoint of a model that you expect to be exactly identical (initializing a BertForSequenceClassification model from a BertForSequenceClassification model).\n"
     ]
    },
    {
     "ename": "KeyboardInterrupt",
     "evalue": "",
     "output_type": "error",
     "traceback": [
      "\u001b[0;31m---------------------------------------------------------------------------\u001b[0m",
      "\u001b[0;31mKeyboardInterrupt\u001b[0m                         Traceback (most recent call last)",
      "\u001b[1;32m/home/kurosaki/Document/Research/PJ0/Repository/Bioenv/notebook/GenProteinRepresentation.ipynb Cell 5'\u001b[0m in \u001b[0;36m<cell line: 6>\u001b[0;34m()\u001b[0m\n\u001b[1;32m     <a href='vscode-notebook-cell:/home/kurosaki/Document/Research/PJ0/Repository/Bioenv/notebook/GenProteinRepresentation.ipynb#ch0000003?line=14'>15</a>\u001b[0m \u001b[39mif\u001b[39;00m name \u001b[39m==\u001b[39m \u001b[39m'\u001b[39m\u001b[39mXLNet_Uniref100\u001b[39m\u001b[39m'\u001b[39m:\n\u001b[1;32m     <a href='vscode-notebook-cell:/home/kurosaki/Document/Research/PJ0/Repository/Bioenv/notebook/GenProteinRepresentation.ipynb#ch0000003?line=15'>16</a>\u001b[0m     generator \u001b[39m=\u001b[39m xlnet_embdder\u001b[39m.\u001b[39membed_many(sequences)\n\u001b[0;32m---> <a href='vscode-notebook-cell:/home/kurosaki/Document/Research/PJ0/Repository/Bioenv/notebook/GenProteinRepresentation.ipynb#ch0000003?line=16'>17</a>\u001b[0m features \u001b[39m=\u001b[39m np\u001b[39m.\u001b[39marray([np\u001b[39m.\u001b[39mmean(v, axis\u001b[39m=\u001b[39m\u001b[39m0\u001b[39m) \u001b[39mfor\u001b[39;00m v \u001b[39min\u001b[39;00m generator])\n\u001b[1;32m     <a href='vscode-notebook-cell:/home/kurosaki/Document/Research/PJ0/Repository/Bioenv/notebook/GenProteinRepresentation.ipynb#ch0000003?line=17'>18</a>\u001b[0m \u001b[39mprint\u001b[39m(\u001b[39m'\u001b[39m\u001b[39m-\u001b[39m\u001b[39m'\u001b[39m\u001b[39m*\u001b[39m\u001b[39m100\u001b[39m)\n\u001b[1;32m     <a href='vscode-notebook-cell:/home/kurosaki/Document/Research/PJ0/Repository/Bioenv/notebook/GenProteinRepresentation.ipynb#ch0000003?line=18'>19</a>\u001b[0m \u001b[39mprint\u001b[39m(name, features\u001b[39m.\u001b[39mshape)\n",
      "\u001b[1;32m/home/kurosaki/Document/Research/PJ0/Repository/Bioenv/notebook/GenProteinRepresentation.ipynb Cell 5'\u001b[0m in \u001b[0;36m<listcomp>\u001b[0;34m(.0)\u001b[0m\n\u001b[1;32m     <a href='vscode-notebook-cell:/home/kurosaki/Document/Research/PJ0/Repository/Bioenv/notebook/GenProteinRepresentation.ipynb#ch0000003?line=14'>15</a>\u001b[0m \u001b[39mif\u001b[39;00m name \u001b[39m==\u001b[39m \u001b[39m'\u001b[39m\u001b[39mXLNet_Uniref100\u001b[39m\u001b[39m'\u001b[39m:\n\u001b[1;32m     <a href='vscode-notebook-cell:/home/kurosaki/Document/Research/PJ0/Repository/Bioenv/notebook/GenProteinRepresentation.ipynb#ch0000003?line=15'>16</a>\u001b[0m     generator \u001b[39m=\u001b[39m xlnet_embdder\u001b[39m.\u001b[39membed_many(sequences)\n\u001b[0;32m---> <a href='vscode-notebook-cell:/home/kurosaki/Document/Research/PJ0/Repository/Bioenv/notebook/GenProteinRepresentation.ipynb#ch0000003?line=16'>17</a>\u001b[0m features \u001b[39m=\u001b[39m np\u001b[39m.\u001b[39marray([np\u001b[39m.\u001b[39mmean(v, axis\u001b[39m=\u001b[39m\u001b[39m0\u001b[39m) \u001b[39mfor\u001b[39;00m v \u001b[39min\u001b[39;00m generator])\n\u001b[1;32m     <a href='vscode-notebook-cell:/home/kurosaki/Document/Research/PJ0/Repository/Bioenv/notebook/GenProteinRepresentation.ipynb#ch0000003?line=17'>18</a>\u001b[0m \u001b[39mprint\u001b[39m(\u001b[39m'\u001b[39m\u001b[39m-\u001b[39m\u001b[39m'\u001b[39m\u001b[39m*\u001b[39m\u001b[39m100\u001b[39m)\n\u001b[1;32m     <a href='vscode-notebook-cell:/home/kurosaki/Document/Research/PJ0/Repository/Bioenv/notebook/GenProteinRepresentation.ipynb#ch0000003?line=18'>19</a>\u001b[0m \u001b[39mprint\u001b[39m(name, features\u001b[39m.\u001b[39mshape)\n",
      "File \u001b[0;32m~/miniconda3/envs/bioenv_ver0.1/lib/python3.8/site-packages/bio_embeddings/embed/embedder_interfaces.py:122\u001b[0m, in \u001b[0;36mEmbedderInterface.embed_many\u001b[0;34m(self, sequences, batch_size)\u001b[0m\n\u001b[1;32m    <a href='file:///home/kurosaki/miniconda3/envs/bioenv_ver0.1/lib/python3.8/site-packages/bio_embeddings/embed/embedder_interfaces.py?line=119'>120</a>\u001b[0m \u001b[39melse\u001b[39;00m:\n\u001b[1;32m    <a href='file:///home/kurosaki/miniconda3/envs/bioenv_ver0.1/lib/python3.8/site-packages/bio_embeddings/embed/embedder_interfaces.py?line=120'>121</a>\u001b[0m     \u001b[39mfor\u001b[39;00m seq \u001b[39min\u001b[39;00m sequences:\n\u001b[0;32m--> <a href='file:///home/kurosaki/miniconda3/envs/bioenv_ver0.1/lib/python3.8/site-packages/bio_embeddings/embed/embedder_interfaces.py?line=121'>122</a>\u001b[0m         \u001b[39myield\u001b[39;00m \u001b[39mself\u001b[39;49m\u001b[39m.\u001b[39;49membed(seq)\n",
      "File \u001b[0;32m~/miniconda3/envs/bioenv_ver0.1/lib/python3.8/site-packages/bio_embeddings/embed/prottrans_base_embedder.py:70\u001b[0m, in \u001b[0;36mProtTransBertBaseEmbedder.embed\u001b[0;34m(self, sequence)\u001b[0m\n\u001b[1;32m     <a href='file:///home/kurosaki/miniconda3/envs/bioenv_ver0.1/lib/python3.8/site-packages/bio_embeddings/embed/prottrans_base_embedder.py?line=68'>69</a>\u001b[0m \u001b[39mdef\u001b[39;00m \u001b[39membed\u001b[39m(\u001b[39mself\u001b[39m, sequence: \u001b[39mstr\u001b[39m) \u001b[39m-\u001b[39m\u001b[39m>\u001b[39m ndarray:\n\u001b[0;32m---> <a href='file:///home/kurosaki/miniconda3/envs/bioenv_ver0.1/lib/python3.8/site-packages/bio_embeddings/embed/prottrans_base_embedder.py?line=69'>70</a>\u001b[0m     [embedding] \u001b[39m=\u001b[39m \u001b[39mself\u001b[39m\u001b[39m.\u001b[39membed_batch([sequence])\n\u001b[1;32m     <a href='file:///home/kurosaki/miniconda3/envs/bioenv_ver0.1/lib/python3.8/site-packages/bio_embeddings/embed/prottrans_base_embedder.py?line=70'>71</a>\u001b[0m     \u001b[39mreturn\u001b[39;00m embedding\n",
      "File \u001b[0;32m~/miniconda3/envs/bioenv_ver0.1/lib/python3.8/site-packages/bio_embeddings/embed/embedder_interfaces.py:176\u001b[0m, in \u001b[0;36mEmbedderWithFallback.embed_batch\u001b[0;34m(self, batch)\u001b[0m\n\u001b[1;32m    <a href='file:///home/kurosaki/miniconda3/envs/bioenv_ver0.1/lib/python3.8/site-packages/bio_embeddings/embed/embedder_interfaces.py?line=172'>173</a>\u001b[0m     \u001b[39mreturn\u001b[39;00m\n\u001b[1;32m    <a href='file:///home/kurosaki/miniconda3/envs/bioenv_ver0.1/lib/python3.8/site-packages/bio_embeddings/embed/embedder_interfaces.py?line=174'>175</a>\u001b[0m \u001b[39mtry\u001b[39;00m:\n\u001b[0;32m--> <a href='file:///home/kurosaki/miniconda3/envs/bioenv_ver0.1/lib/python3.8/site-packages/bio_embeddings/embed/embedder_interfaces.py?line=175'>176</a>\u001b[0m     \u001b[39myield from\u001b[39;00m \u001b[39mself\u001b[39m\u001b[39m.\u001b[39m_embed_batch_impl(batch, \u001b[39mself\u001b[39m\u001b[39m.\u001b[39m_model)\n\u001b[1;32m    <a href='file:///home/kurosaki/miniconda3/envs/bioenv_ver0.1/lib/python3.8/site-packages/bio_embeddings/embed/embedder_interfaces.py?line=176'>177</a>\u001b[0m \u001b[39mexcept\u001b[39;00m \u001b[39mRuntimeError\u001b[39;00m \u001b[39mas\u001b[39;00m e:\n\u001b[1;32m    <a href='file:///home/kurosaki/miniconda3/envs/bioenv_ver0.1/lib/python3.8/site-packages/bio_embeddings/embed/embedder_interfaces.py?line=177'>178</a>\u001b[0m     \u001b[39mif\u001b[39;00m \u001b[39mlen\u001b[39m(batch) \u001b[39m==\u001b[39m \u001b[39m1\u001b[39m:\n",
      "File \u001b[0;32m~/miniconda3/envs/bioenv_ver0.1/lib/python3.8/site-packages/bio_embeddings/embed/prottrans_base_embedder.py:54\u001b[0m, in \u001b[0;36mProtTransBertBaseEmbedder._embed_batch_impl\u001b[0;34m(self, batch, model)\u001b[0m\n\u001b[1;32m     <a href='file:///home/kurosaki/miniconda3/envs/bioenv_ver0.1/lib/python3.8/site-packages/bio_embeddings/embed/prottrans_base_embedder.py?line=48'>49</a>\u001b[0m \u001b[39mwith\u001b[39;00m torch\u001b[39m.\u001b[39mno_grad():\n\u001b[1;32m     <a href='file:///home/kurosaki/miniconda3/envs/bioenv_ver0.1/lib/python3.8/site-packages/bio_embeddings/embed/prottrans_base_embedder.py?line=49'>50</a>\u001b[0m     embeddings \u001b[39m=\u001b[39m model(\n\u001b[1;32m     <a href='file:///home/kurosaki/miniconda3/envs/bioenv_ver0.1/lib/python3.8/site-packages/bio_embeddings/embed/prottrans_base_embedder.py?line=50'>51</a>\u001b[0m         input_ids\u001b[39m=\u001b[39mtokenized_sequences, attention_mask\u001b[39m=\u001b[39mattention_mask\n\u001b[1;32m     <a href='file:///home/kurosaki/miniconda3/envs/bioenv_ver0.1/lib/python3.8/site-packages/bio_embeddings/embed/prottrans_base_embedder.py?line=51'>52</a>\u001b[0m     )\n\u001b[0;32m---> <a href='file:///home/kurosaki/miniconda3/envs/bioenv_ver0.1/lib/python3.8/site-packages/bio_embeddings/embed/prottrans_base_embedder.py?line=53'>54</a>\u001b[0m embeddings \u001b[39m=\u001b[39m embeddings[\u001b[39m0\u001b[39;49m]\u001b[39m.\u001b[39;49mcpu()\u001b[39m.\u001b[39mnumpy()\n\u001b[1;32m     <a href='file:///home/kurosaki/miniconda3/envs/bioenv_ver0.1/lib/python3.8/site-packages/bio_embeddings/embed/prottrans_base_embedder.py?line=55'>56</a>\u001b[0m \u001b[39mfor\u001b[39;00m seq_num, seq_len \u001b[39min\u001b[39;00m zip_longest(\u001b[39mrange\u001b[39m(\u001b[39mlen\u001b[39m(embeddings)), seq_lens):\n\u001b[1;32m     <a href='file:///home/kurosaki/miniconda3/envs/bioenv_ver0.1/lib/python3.8/site-packages/bio_embeddings/embed/prottrans_base_embedder.py?line=56'>57</a>\u001b[0m     \u001b[39m# slice off first and last positions (special tokens)\u001b[39;00m\n\u001b[1;32m     <a href='file:///home/kurosaki/miniconda3/envs/bioenv_ver0.1/lib/python3.8/site-packages/bio_embeddings/embed/prottrans_base_embedder.py?line=57'>58</a>\u001b[0m     embedding \u001b[39m=\u001b[39m embeddings[seq_num][\u001b[39m1\u001b[39m : seq_len \u001b[39m+\u001b[39m \u001b[39m1\u001b[39m]\n",
      "\u001b[0;31mKeyboardInterrupt\u001b[0m: "
     ]
    }
   ],
   "source": [
    "df = pd.read_csv('../data/DeepLoc/DeepLocAll.csv')\n",
    "sequences = df.iloc[:,0].tolist()\n",
    "sequences = [''.join(seq.split()) for seq in sequences]\n",
    "\n",
    "for name in ['Albert_BFD', 'BERT_BFD', 'T5_BFD', 'T5_FT', 'XLNet_Uniref100']:\n",
    "    if name == 'Albert_BFD':\n",
    "      generator = albert_embedder.embed_many(sequences)\n",
    "    if name == 'BERT_BFD':\n",
    "        generator = bert_embedder.embed_many(sequences)\n",
    "    if name == 'T5_BFD':\n",
    "        generator = t5_embedder.embed_many(sequences)\n",
    "    if name == 'T5_FT':\n",
    "        generator = t5ft_embedder.embed_many(sequences)\n",
    "    if name == 'XLNet_Uniref100':\n",
    "        generator = xlnet_embdder.embed_many(sequences)\n",
    "    features = np.array([np.mean(v, axis=0) for v in generator])\n",
    "    print('-'*100)\n",
    "    print(name, features.shape)\n",
    "    pd.concat([df.iloc[:,1:], pd.DataFrame(features)], axis=1).to_csv(f'../data/DeepLoc/DeepLocEmbedd_{name}.csv', index=False)"
   ]
  },
  {
   "cell_type": "markdown",
   "metadata": {},
   "source": [
    "# Deep PPI"
   ]
  },
  {
   "cell_type": "code",
   "execution_count": 16,
   "metadata": {},
   "outputs": [
    {
     "name": "stderr",
     "output_type": "stream",
     "text": [
      "100%|██████████| 4424/4424 [00:00<00:00, 45474.18it/s]\n"
     ]
    }
   ],
   "source": [
    "fasta_path = '../data/DeepPPI/DeepPPI.fasta'\n",
    "seq_dict = {}\n",
    "for i, record in enumerate(tqdm(SeqIO.parse(fasta_path, 'fasta'), total=4424)):\n",
    "    Id = record.id.split('|')[1]\n",
    "    seq = str(record.seq)\n",
    "    seq_dict[str(Id)] = seq\n",
    "df = pd.DataFrame(seq_dict.keys(), columns = ['UniprotID'])\n",
    "sequences = list(seq_dict.values())"
   ]
  },
  {
   "cell_type": "code",
   "execution_count": 25,
   "metadata": {},
   "outputs": [
    {
     "name": "stderr",
     "output_type": "stream",
     "text": [
      "Some weights of the model checkpoint at /home/kurosaki/.cache/bio_embeddings/prottrans_albert_bfd/model_directory were not used when initializing AlbertModel: ['predictions.decoder.bias', 'predictions.bias', 'sop_classifier.classifier.bias', 'predictions.LayerNorm.weight', 'predictions.decoder.weight', 'predictions.LayerNorm.bias', 'predictions.dense.bias', 'sop_classifier.classifier.weight', 'predictions.dense.weight']\n",
      "- This IS expected if you are initializing AlbertModel from the checkpoint of a model trained on another task or with another architecture (e.g. initializing a BertForSequenceClassification model from a BertForPreTraining model).\n",
      "- This IS NOT expected if you are initializing AlbertModel from the checkpoint of a model that you expect to be exactly identical (initializing a BertForSequenceClassification model from a BertForSequenceClassification model).\n",
      "Some weights of the model checkpoint at /home/kurosaki/.cache/bio_embeddings/prottrans_bert_bfd/model_directory were not used when initializing BertModel: ['cls.seq_relationship.bias', 'cls.predictions.transform.LayerNorm.weight', 'cls.predictions.decoder.weight', 'cls.predictions.transform.dense.weight', 'cls.predictions.transform.dense.bias', 'cls.predictions.transform.LayerNorm.bias', 'cls.predictions.decoder.bias', 'cls.predictions.bias', 'cls.seq_relationship.weight']\n",
      "- This IS expected if you are initializing BertModel from the checkpoint of a model trained on another task or with another architecture (e.g. initializing a BertForSequenceClassification model from a BertForPreTraining model).\n",
      "- This IS NOT expected if you are initializing BertModel from the checkpoint of a model that you expect to be exactly identical (initializing a BertForSequenceClassification model from a BertForSequenceClassification model).\n"
     ]
    }
   ],
   "source": [
    "for i, model in enumerate(models):\n",
    "    if model ==  'Albert_BFD':\n",
    "        emb = embed.ProtTransAlbertBFDEmbedder()\n",
    "    elif model ==  'BERT_BFD':\n",
    "        emd = embed.ProtTransBertBFDEmbedder()\n",
    "    elif model == 'T5_BFD':\n",
    "        emd = embed.ProtTransT5BFDEmbedder()\n",
    "    elif model == 'T5_FT':\n",
    "        emb = embed.ProtTransT5XLU50Embedder()\n",
    "    generator = emb.embed_many(sequences)\n",
    "    features = [np.mean(v, axis=0) for v in generator]\n",
    "    pd.concat([df, pd.DataFrame(features)], axis=1).to_csv(f'../data/DeepPPI/DeepPPIEmbedd_{model}.csv', index=False)"
   ]
  },
  {
   "cell_type": "markdown",
   "metadata": {},
   "source": [
    "# test"
   ]
  },
  {
   "cell_type": "code",
   "execution_count": 1,
   "metadata": {},
   "outputs": [],
   "source": [
    "import pandas as pd"
   ]
  },
  {
   "cell_type": "code",
   "execution_count": 5,
   "metadata": {},
   "outputs": [
    {
     "data": {
      "text/html": [
       "<div>\n",
       "<style scoped>\n",
       "    .dataframe tbody tr th:only-of-type {\n",
       "        vertical-align: middle;\n",
       "    }\n",
       "\n",
       "    .dataframe tbody tr th {\n",
       "        vertical-align: top;\n",
       "    }\n",
       "\n",
       "    .dataframe thead th {\n",
       "        text-align: right;\n",
       "    }\n",
       "</style>\n",
       "<table border=\"1\" class=\"dataframe\">\n",
       "  <thead>\n",
       "    <tr style=\"text-align: right;\">\n",
       "      <th></th>\n",
       "      <th>input</th>\n",
       "      <th>loc</th>\n",
       "      <th>membrane</th>\n",
       "      <th>0</th>\n",
       "      <th>1</th>\n",
       "      <th>2</th>\n",
       "      <th>3</th>\n",
       "      <th>4</th>\n",
       "      <th>5</th>\n",
       "      <th>6</th>\n",
       "      <th>...</th>\n",
       "      <th>1014</th>\n",
       "      <th>1015</th>\n",
       "      <th>1016</th>\n",
       "      <th>1017</th>\n",
       "      <th>1018</th>\n",
       "      <th>1019</th>\n",
       "      <th>1020</th>\n",
       "      <th>1021</th>\n",
       "      <th>1022</th>\n",
       "      <th>1023</th>\n",
       "    </tr>\n",
       "  </thead>\n",
       "  <tbody>\n",
       "    <tr>\n",
       "      <th>0</th>\n",
       "      <td>M M K T L S S G N C T L N V P A K N S Y R M V ...</td>\n",
       "      <td>Cell.membrane</td>\n",
       "      <td>M</td>\n",
       "      <td>0.005140</td>\n",
       "      <td>0.101230</td>\n",
       "      <td>0.012850</td>\n",
       "      <td>0.021046</td>\n",
       "      <td>0.004626</td>\n",
       "      <td>0.021493</td>\n",
       "      <td>-0.054627</td>\n",
       "      <td>...</td>\n",
       "      <td>-0.039923</td>\n",
       "      <td>0.003448</td>\n",
       "      <td>-0.050793</td>\n",
       "      <td>-0.024625</td>\n",
       "      <td>0.042415</td>\n",
       "      <td>0.019373</td>\n",
       "      <td>-0.024845</td>\n",
       "      <td>-0.014186</td>\n",
       "      <td>0.000061</td>\n",
       "      <td>0.017455</td>\n",
       "    </tr>\n",
       "    <tr>\n",
       "      <th>1</th>\n",
       "      <td>M A K R T F S N L E T F L I F L L V M M S A I ...</td>\n",
       "      <td>Cell.membrane</td>\n",
       "      <td>M</td>\n",
       "      <td>0.033010</td>\n",
       "      <td>0.066597</td>\n",
       "      <td>0.041995</td>\n",
       "      <td>0.030470</td>\n",
       "      <td>-0.013707</td>\n",
       "      <td>0.019532</td>\n",
       "      <td>-0.076544</td>\n",
       "      <td>...</td>\n",
       "      <td>-0.047641</td>\n",
       "      <td>-0.003586</td>\n",
       "      <td>-0.002714</td>\n",
       "      <td>-0.039838</td>\n",
       "      <td>0.021222</td>\n",
       "      <td>-0.004296</td>\n",
       "      <td>0.008132</td>\n",
       "      <td>0.012745</td>\n",
       "      <td>0.030368</td>\n",
       "      <td>-0.012899</td>\n",
       "    </tr>\n",
       "    <tr>\n",
       "      <th>2</th>\n",
       "      <td>M G N C Q A G H N L H L C L A H H P P L V C A ...</td>\n",
       "      <td>Cell.membrane</td>\n",
       "      <td>M</td>\n",
       "      <td>0.002815</td>\n",
       "      <td>0.004737</td>\n",
       "      <td>0.024810</td>\n",
       "      <td>-0.006830</td>\n",
       "      <td>-0.011687</td>\n",
       "      <td>0.030223</td>\n",
       "      <td>-0.058251</td>\n",
       "      <td>...</td>\n",
       "      <td>0.003590</td>\n",
       "      <td>-0.052906</td>\n",
       "      <td>0.009581</td>\n",
       "      <td>0.003414</td>\n",
       "      <td>-0.049453</td>\n",
       "      <td>-0.044577</td>\n",
       "      <td>-0.007692</td>\n",
       "      <td>-0.065482</td>\n",
       "      <td>0.037445</td>\n",
       "      <td>0.031141</td>\n",
       "    </tr>\n",
       "    <tr>\n",
       "      <th>3</th>\n",
       "      <td>M D P S K Q G T L N R V E N S V Y R T A F K L ...</td>\n",
       "      <td>Cell.membrane</td>\n",
       "      <td>M</td>\n",
       "      <td>-0.047677</td>\n",
       "      <td>-0.010981</td>\n",
       "      <td>0.025459</td>\n",
       "      <td>-0.002435</td>\n",
       "      <td>-0.053464</td>\n",
       "      <td>0.061748</td>\n",
       "      <td>-0.055489</td>\n",
       "      <td>...</td>\n",
       "      <td>0.021491</td>\n",
       "      <td>-0.015486</td>\n",
       "      <td>-0.000625</td>\n",
       "      <td>-0.028873</td>\n",
       "      <td>-0.020675</td>\n",
       "      <td>0.038899</td>\n",
       "      <td>0.005726</td>\n",
       "      <td>0.007258</td>\n",
       "      <td>-0.000905</td>\n",
       "      <td>0.031985</td>\n",
       "    </tr>\n",
       "    <tr>\n",
       "      <th>4</th>\n",
       "      <td>M L L A W V Q A F L V S N M L L A E A Y G S G ...</td>\n",
       "      <td>Cell.membrane</td>\n",
       "      <td>M</td>\n",
       "      <td>0.014964</td>\n",
       "      <td>-0.009305</td>\n",
       "      <td>0.060831</td>\n",
       "      <td>-0.016183</td>\n",
       "      <td>-0.008358</td>\n",
       "      <td>0.084196</td>\n",
       "      <td>-0.048217</td>\n",
       "      <td>...</td>\n",
       "      <td>-0.022407</td>\n",
       "      <td>-0.037921</td>\n",
       "      <td>0.001360</td>\n",
       "      <td>-0.010348</td>\n",
       "      <td>-0.019215</td>\n",
       "      <td>0.042999</td>\n",
       "      <td>0.003124</td>\n",
       "      <td>-0.061529</td>\n",
       "      <td>0.022786</td>\n",
       "      <td>0.041758</td>\n",
       "    </tr>\n",
       "    <tr>\n",
       "      <th>...</th>\n",
       "      <td>...</td>\n",
       "      <td>...</td>\n",
       "      <td>...</td>\n",
       "      <td>...</td>\n",
       "      <td>...</td>\n",
       "      <td>...</td>\n",
       "      <td>...</td>\n",
       "      <td>...</td>\n",
       "      <td>...</td>\n",
       "      <td>...</td>\n",
       "      <td>...</td>\n",
       "      <td>...</td>\n",
       "      <td>...</td>\n",
       "      <td>...</td>\n",
       "      <td>...</td>\n",
       "      <td>...</td>\n",
       "      <td>...</td>\n",
       "      <td>...</td>\n",
       "      <td>...</td>\n",
       "      <td>...</td>\n",
       "      <td>...</td>\n",
       "    </tr>\n",
       "    <tr>\n",
       "      <th>8459</th>\n",
       "      <td>I I E C F F S C E I E K D G K S K E G K P C K ...</td>\n",
       "      <td>Extracellular</td>\n",
       "      <td>S</td>\n",
       "      <td>0.095750</td>\n",
       "      <td>0.074050</td>\n",
       "      <td>0.077187</td>\n",
       "      <td>-0.126235</td>\n",
       "      <td>-0.026397</td>\n",
       "      <td>-0.143217</td>\n",
       "      <td>-0.126798</td>\n",
       "      <td>...</td>\n",
       "      <td>-0.020201</td>\n",
       "      <td>-0.008499</td>\n",
       "      <td>-0.002725</td>\n",
       "      <td>-0.155470</td>\n",
       "      <td>0.088511</td>\n",
       "      <td>-0.078960</td>\n",
       "      <td>-0.028378</td>\n",
       "      <td>0.036604</td>\n",
       "      <td>0.064585</td>\n",
       "      <td>0.118211</td>\n",
       "    </tr>\n",
       "    <tr>\n",
       "      <th>8460</th>\n",
       "      <td>M R V S V P V L A L A F G S L A A A A P N A G ...</td>\n",
       "      <td>Extracellular</td>\n",
       "      <td>S</td>\n",
       "      <td>0.040690</td>\n",
       "      <td>0.023037</td>\n",
       "      <td>0.054974</td>\n",
       "      <td>-0.005959</td>\n",
       "      <td>-0.037790</td>\n",
       "      <td>-0.007396</td>\n",
       "      <td>-0.017116</td>\n",
       "      <td>...</td>\n",
       "      <td>-0.094401</td>\n",
       "      <td>-0.014769</td>\n",
       "      <td>-0.026801</td>\n",
       "      <td>0.015351</td>\n",
       "      <td>0.028712</td>\n",
       "      <td>0.048774</td>\n",
       "      <td>-0.000919</td>\n",
       "      <td>0.013360</td>\n",
       "      <td>-0.008210</td>\n",
       "      <td>0.003581</td>\n",
       "    </tr>\n",
       "    <tr>\n",
       "      <th>8461</th>\n",
       "      <td>M L F W T A F S M A L S L R L A L A R S S I E ...</td>\n",
       "      <td>Extracellular</td>\n",
       "      <td>S</td>\n",
       "      <td>-0.021006</td>\n",
       "      <td>-0.000614</td>\n",
       "      <td>0.031062</td>\n",
       "      <td>0.010280</td>\n",
       "      <td>-0.026196</td>\n",
       "      <td>0.022467</td>\n",
       "      <td>-0.063973</td>\n",
       "      <td>...</td>\n",
       "      <td>-0.005070</td>\n",
       "      <td>-0.006231</td>\n",
       "      <td>0.014474</td>\n",
       "      <td>-0.011704</td>\n",
       "      <td>-0.034645</td>\n",
       "      <td>0.007463</td>\n",
       "      <td>0.003945</td>\n",
       "      <td>-0.010791</td>\n",
       "      <td>0.030907</td>\n",
       "      <td>0.019197</td>\n",
       "    </tr>\n",
       "    <tr>\n",
       "      <th>8462</th>\n",
       "      <td>M M A F P P Q S C V H V L P P K S I Q M W E P ...</td>\n",
       "      <td>Extracellular</td>\n",
       "      <td>S</td>\n",
       "      <td>0.024560</td>\n",
       "      <td>0.018751</td>\n",
       "      <td>0.134095</td>\n",
       "      <td>0.047219</td>\n",
       "      <td>-0.044477</td>\n",
       "      <td>0.046516</td>\n",
       "      <td>0.005344</td>\n",
       "      <td>...</td>\n",
       "      <td>-0.070051</td>\n",
       "      <td>-0.000845</td>\n",
       "      <td>0.071466</td>\n",
       "      <td>-0.060846</td>\n",
       "      <td>0.017049</td>\n",
       "      <td>-0.071921</td>\n",
       "      <td>0.011296</td>\n",
       "      <td>-0.033704</td>\n",
       "      <td>0.031455</td>\n",
       "      <td>0.018192</td>\n",
       "    </tr>\n",
       "    <tr>\n",
       "      <th>8463</th>\n",
       "      <td>M K S L Y L I F G L W I L L A C F Q S G E G V ...</td>\n",
       "      <td>Extracellular</td>\n",
       "      <td>S</td>\n",
       "      <td>0.003052</td>\n",
       "      <td>0.039932</td>\n",
       "      <td>0.098989</td>\n",
       "      <td>0.019094</td>\n",
       "      <td>-0.028867</td>\n",
       "      <td>-0.013387</td>\n",
       "      <td>-0.072833</td>\n",
       "      <td>...</td>\n",
       "      <td>-0.042437</td>\n",
       "      <td>-0.022532</td>\n",
       "      <td>0.029338</td>\n",
       "      <td>-0.039517</td>\n",
       "      <td>0.021289</td>\n",
       "      <td>-0.027950</td>\n",
       "      <td>-0.038712</td>\n",
       "      <td>-0.008321</td>\n",
       "      <td>0.039455</td>\n",
       "      <td>-0.015543</td>\n",
       "    </tr>\n",
       "  </tbody>\n",
       "</table>\n",
       "<p>8464 rows × 1027 columns</p>\n",
       "</div>"
      ],
      "text/plain": [
       "                                                  input            loc  \\\n",
       "0     M M K T L S S G N C T L N V P A K N S Y R M V ...  Cell.membrane   \n",
       "1     M A K R T F S N L E T F L I F L L V M M S A I ...  Cell.membrane   \n",
       "2     M G N C Q A G H N L H L C L A H H P P L V C A ...  Cell.membrane   \n",
       "3     M D P S K Q G T L N R V E N S V Y R T A F K L ...  Cell.membrane   \n",
       "4     M L L A W V Q A F L V S N M L L A E A Y G S G ...  Cell.membrane   \n",
       "...                                                 ...            ...   \n",
       "8459  I I E C F F S C E I E K D G K S K E G K P C K ...  Extracellular   \n",
       "8460  M R V S V P V L A L A F G S L A A A A P N A G ...  Extracellular   \n",
       "8461  M L F W T A F S M A L S L R L A L A R S S I E ...  Extracellular   \n",
       "8462  M M A F P P Q S C V H V L P P K S I Q M W E P ...  Extracellular   \n",
       "8463  M K S L Y L I F G L W I L L A C F Q S G E G V ...  Extracellular   \n",
       "\n",
       "      membrane         0         1         2         3         4         5  \\\n",
       "0            M  0.005140  0.101230  0.012850  0.021046  0.004626  0.021493   \n",
       "1            M  0.033010  0.066597  0.041995  0.030470 -0.013707  0.019532   \n",
       "2            M  0.002815  0.004737  0.024810 -0.006830 -0.011687  0.030223   \n",
       "3            M -0.047677 -0.010981  0.025459 -0.002435 -0.053464  0.061748   \n",
       "4            M  0.014964 -0.009305  0.060831 -0.016183 -0.008358  0.084196   \n",
       "...        ...       ...       ...       ...       ...       ...       ...   \n",
       "8459         S  0.095750  0.074050  0.077187 -0.126235 -0.026397 -0.143217   \n",
       "8460         S  0.040690  0.023037  0.054974 -0.005959 -0.037790 -0.007396   \n",
       "8461         S -0.021006 -0.000614  0.031062  0.010280 -0.026196  0.022467   \n",
       "8462         S  0.024560  0.018751  0.134095  0.047219 -0.044477  0.046516   \n",
       "8463         S  0.003052  0.039932  0.098989  0.019094 -0.028867 -0.013387   \n",
       "\n",
       "             6  ...      1014      1015      1016      1017      1018  \\\n",
       "0    -0.054627  ... -0.039923  0.003448 -0.050793 -0.024625  0.042415   \n",
       "1    -0.076544  ... -0.047641 -0.003586 -0.002714 -0.039838  0.021222   \n",
       "2    -0.058251  ...  0.003590 -0.052906  0.009581  0.003414 -0.049453   \n",
       "3    -0.055489  ...  0.021491 -0.015486 -0.000625 -0.028873 -0.020675   \n",
       "4    -0.048217  ... -0.022407 -0.037921  0.001360 -0.010348 -0.019215   \n",
       "...        ...  ...       ...       ...       ...       ...       ...   \n",
       "8459 -0.126798  ... -0.020201 -0.008499 -0.002725 -0.155470  0.088511   \n",
       "8460 -0.017116  ... -0.094401 -0.014769 -0.026801  0.015351  0.028712   \n",
       "8461 -0.063973  ... -0.005070 -0.006231  0.014474 -0.011704 -0.034645   \n",
       "8462  0.005344  ... -0.070051 -0.000845  0.071466 -0.060846  0.017049   \n",
       "8463 -0.072833  ... -0.042437 -0.022532  0.029338 -0.039517  0.021289   \n",
       "\n",
       "          1019      1020      1021      1022      1023  \n",
       "0     0.019373 -0.024845 -0.014186  0.000061  0.017455  \n",
       "1    -0.004296  0.008132  0.012745  0.030368 -0.012899  \n",
       "2    -0.044577 -0.007692 -0.065482  0.037445  0.031141  \n",
       "3     0.038899  0.005726  0.007258 -0.000905  0.031985  \n",
       "4     0.042999  0.003124 -0.061529  0.022786  0.041758  \n",
       "...        ...       ...       ...       ...       ...  \n",
       "8459 -0.078960 -0.028378  0.036604  0.064585  0.118211  \n",
       "8460  0.048774 -0.000919  0.013360 -0.008210  0.003581  \n",
       "8461  0.007463  0.003945 -0.010791  0.030907  0.019197  \n",
       "8462 -0.071921  0.011296 -0.033704  0.031455  0.018192  \n",
       "8463 -0.027950 -0.038712 -0.008321  0.039455 -0.015543  \n",
       "\n",
       "[8464 rows x 1027 columns]"
      ]
     },
     "execution_count": 5,
     "metadata": {},
     "output_type": "execute_result"
    }
   ],
   "source": [
    "df = pd.read_csv('../data/DeepLoc/DeepLocEmbedd_T5_FT.csv')\n",
    "df"
   ]
  },
  {
   "cell_type": "code",
   "execution_count": null,
   "metadata": {},
   "outputs": [],
   "source": []
  }
 ],
 "metadata": {
  "interpreter": {
   "hash": "b3e12de8d4f511a3f40a134d20c84f219b709a35adcae8dcc2b376a736afcf2a"
  },
  "kernelspec": {
   "display_name": "Python 3.8.5 ('bioenv_ver0.1')",
   "language": "python",
   "name": "python3"
  },
  "language_info": {
   "codemirror_mode": {
    "name": "ipython",
    "version": 3
   },
   "file_extension": ".py",
   "mimetype": "text/x-python",
   "name": "python",
   "nbconvert_exporter": "python",
   "pygments_lexer": "ipython3",
   "version": "3.8.5"
  },
  "orig_nbformat": 4
 },
 "nbformat": 4,
 "nbformat_minor": 2
}
