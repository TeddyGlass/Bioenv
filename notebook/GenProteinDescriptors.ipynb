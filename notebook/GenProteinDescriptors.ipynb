{
 "cells": [
  {
   "cell_type": "code",
   "execution_count": 1,
   "metadata": {},
   "outputs": [],
   "source": [
    "from PyBioMed.PyProtein import AAIndex, Autocorrelation\n",
    "from tqdm import tqdm\n",
    "import numpy as np\n",
    "import os\n",
    "import pandas as pd\n",
    "import matplotlib.pyplot as plt"
   ]
  },
  {
   "cell_type": "markdown",
   "metadata": {},
   "source": [
    "# AAindex1"
   ]
  },
  {
   "cell_type": "code",
   "execution_count": 2,
   "metadata": {},
   "outputs": [],
   "source": [
    "def AAindex1_descriptor(sequences: list):\n",
    "    # initialize\n",
    "    if not os.path.exists('aaindex1'):\n",
    "        AAIndex.GetAAIndex1('ANDN920101')\n",
    "    # get all AAindex name\n",
    "    f = open('aaindex1')\n",
    "    data = f.read()\n",
    "    idxes = []\n",
    "    for i, item in  enumerate(data.split('//')):\n",
    "        if i == len(data.split('//')) -1:\n",
    "            break\n",
    "        else:\n",
    "            idxes.append(item.split()[1])\n",
    "    # create AAindex1 dictionary\n",
    "    print('-'*100)\n",
    "    print('crating all AAindex1 dictionary ...')\n",
    "    AAindex1 = {}\n",
    "    for idx in tqdm(idxes):\n",
    "        AAindex1[idx] = AAIndex.GetAAIndex1(idx)\n",
    "    print('completed')\n",
    "    print('-'*100)\n",
    "    # calculate AAindex1 descriptor\n",
    "    print('-'*100)\n",
    "    print('calculating AAindex1 descriptors ...')\n",
    "    descriptor_matrix = np.zeros([len(sequences), len(AAindex1)])\n",
    "    for i, seq in enumerate(tqdm(sequences, total=len(sequences))):\n",
    "        for j, aaindex1_dict in enumerate(AAindex1.values()):\n",
    "            ss = []\n",
    "            for s in seq:\n",
    "                try:\n",
    "                    if aaindex1_dict[s] is not None:\n",
    "                        ss.append(aaindex1_dict[s])\n",
    "                except KeyError:\n",
    "                    pass\n",
    "            descriptor_matrix[i,j] = np.mean(ss)\n",
    "    print('completed')\n",
    "    print('-'*100)\n",
    "    return pd.DataFrame(descriptor_matrix, columns = list(AAindex1.keys()))"
   ]
  },
  {
   "cell_type": "markdown",
   "metadata": {},
   "source": [
    "# AAindex23\n",
    "ライブラリでファイルのパースがうまくいっていないようで, AAindex2,3については算出できない"
   ]
  },
  {
   "cell_type": "markdown",
   "metadata": {},
   "source": [
    "# Autocorrelation"
   ]
  },
  {
   "cell_type": "code",
   "execution_count": 71,
   "metadata": {},
   "outputs": [],
   "source": [
    "def acc_descriptor(sequences: list):\n",
    "    descriptor_matrix = np.full((len(sequences), 720), np.nan)\n",
    "    columns = Autocorrelation.CalculateAutoTotal('ALANINE').keys()\n",
    "    for i, seq in enumerate(tqdm(sequences, total=len(sequences))):\n",
    "        try: \n",
    "            disc = Autocorrelation.CalculateAutoTotal(seq)\n",
    "            descriptor_matrix[i] = np.array(list(disc.values()))\n",
    "        except KeyError:\n",
    "            pass\n",
    "    return pd.DataFrame(descriptor_matrix, columns=columns)"
   ]
  },
  {
   "cell_type": "markdown",
   "metadata": {},
   "source": [
    "### "
   ]
  },
  {
   "cell_type": "markdown",
   "metadata": {},
   "source": [
    "# DeepLoc data set"
   ]
  },
  {
   "cell_type": "code",
   "execution_count": 4,
   "metadata": {},
   "outputs": [],
   "source": [
    "df = pd.read_csv('../data/DeepLoc/DeepLocAll.csv')\n",
    "sequences = df.iloc[:,0].tolist()\n",
    "sequences = [''.join(s.split()) for s in sequences]\n",
    "df.iloc[:,0] = sequences"
   ]
  },
  {
   "cell_type": "code",
   "execution_count": 6,
   "metadata": {},
   "outputs": [
    {
     "name": "stdout",
     "output_type": "stream",
     "text": [
      "----------------------------------------------------------------------------------------------------\n",
      "crating all AAindex1 dictionary ...\n"
     ]
    },
    {
     "name": "stderr",
     "output_type": "stream",
     "text": [
      "100%|██████████| 566/566 [00:21<00:00, 26.67it/s]\n"
     ]
    },
    {
     "name": "stdout",
     "output_type": "stream",
     "text": [
      "completed\n",
      "----------------------------------------------------------------------------------------------------\n",
      "----------------------------------------------------------------------------------------------------\n",
      "calculating AAindex1 descriptors ...\n"
     ]
    },
    {
     "name": "stderr",
     "output_type": "stream",
     "text": [
      "100%|██████████| 8464/8464 [09:51<00:00, 14.30it/s]"
     ]
    },
    {
     "name": "stdout",
     "output_type": "stream",
     "text": [
      "completed\n",
      "----------------------------------------------------------------------------------------------------\n"
     ]
    },
    {
     "name": "stderr",
     "output_type": "stream",
     "text": [
      "\n"
     ]
    }
   ],
   "source": [
    "aaindex = AAindex1_descriptor(sequences)"
   ]
  },
  {
   "cell_type": "code",
   "execution_count": 9,
   "metadata": {},
   "outputs": [],
   "source": [
    "pd.concat([df, aaindex], axis=1).to_csv('../data/DeepLoc/DeepLocDescriptorAAindex.csv',index=False)"
   ]
  },
  {
   "cell_type": "code",
   "execution_count": 72,
   "metadata": {},
   "outputs": [
    {
     "name": "stderr",
     "output_type": "stream",
     "text": [
      "100%|██████████| 8464/8464 [12:51<00:00, 10.97it/s]\n"
     ]
    }
   ],
   "source": [
    "autocrr = acc_descriptor(sequences)\n",
    "pd.concat([df, autocrr], axis=1).to_csv('../data/DeepLoc/DeepLocDescriptorAurocorrelation.csv',index=False)"
   ]
  },
  {
   "cell_type": "markdown",
   "metadata": {},
   "source": [
    "# DeepPPI dataset"
   ]
  },
  {
   "cell_type": "code",
   "execution_count": 75,
   "metadata": {},
   "outputs": [
    {
     "name": "stderr",
     "output_type": "stream",
     "text": [
      "100%|██████████| 4424/4424 [00:00<00:00, 47944.56it/s]\n"
     ]
    }
   ],
   "source": [
    "from Bio import SeqIO\n",
    "\n",
    "fasta_path = '../data/DeepPPI/DeepPPI.fasta'\n",
    "seq_dict = {}\n",
    "for i, record in enumerate(tqdm(SeqIO.parse(fasta_path, 'fasta'), total=4424)):\n",
    "    Id = record.id.split('|')[1]\n",
    "    seq = str(record.seq) \n",
    "    seq_dict[str(Id)] = seq"
   ]
  },
  {
   "cell_type": "code",
   "execution_count": 77,
   "metadata": {},
   "outputs": [
    {
     "name": "stdout",
     "output_type": "stream",
     "text": [
      "----------------------------------------------------------------------------------------------------\n",
      "crating all AAindex1 dictionary ...\n"
     ]
    },
    {
     "name": "stderr",
     "output_type": "stream",
     "text": [
      "100%|██████████| 566/566 [00:20<00:00, 27.09it/s]\n"
     ]
    },
    {
     "name": "stdout",
     "output_type": "stream",
     "text": [
      "completed\n",
      "----------------------------------------------------------------------------------------------------\n",
      "----------------------------------------------------------------------------------------------------\n",
      "calculating AAindex1 descriptors ...\n"
     ]
    },
    {
     "name": "stderr",
     "output_type": "stream",
     "text": [
      "100%|██████████| 4424/4424 [04:43<00:00, 15.62it/s]\n"
     ]
    },
    {
     "name": "stdout",
     "output_type": "stream",
     "text": [
      "completed\n",
      "----------------------------------------------------------------------------------------------------\n"
     ]
    },
    {
     "name": "stderr",
     "output_type": "stream",
     "text": [
      "100%|██████████| 4424/4424 [05:59<00:00, 12.31it/s]\n"
     ]
    }
   ],
   "source": [
    "sequences = list(seq_dict.values())\n",
    "aaindex = AAindex1_descriptor(sequences)\n",
    "autocrr = acc_descriptor(sequences)"
   ]
  },
  {
   "cell_type": "code",
   "execution_count": 83,
   "metadata": {},
   "outputs": [],
   "source": [
    "df_result = pd.DataFrame(seq_dict.keys(), columns=['UniprotID'])\n",
    "df_result = pd.concat([df_result,aaindex], axis=1)\n",
    "df_result.to_csv('../data/DeepPPI/DeepPPIDescriptorAAindex.csv', index=False)"
   ]
  },
  {
   "cell_type": "code",
   "execution_count": 84,
   "metadata": {},
   "outputs": [],
   "source": [
    "df_result = pd.DataFrame(seq_dict.keys(), columns=['UniprotID'])\n",
    "df_result = pd.concat([df_result,autocrr], axis=1)\n",
    "df_result.to_csv('../data/DeepPPI/DeepPPIDescriptorAutocorrelation.csv', index=False)"
   ]
  },
  {
   "cell_type": "code",
   "execution_count": null,
   "metadata": {},
   "outputs": [],
   "source": []
  }
 ],
 "metadata": {
  "interpreter": {
   "hash": "b3e12de8d4f511a3f40a134d20c84f219b709a35adcae8dcc2b376a736afcf2a"
  },
  "kernelspec": {
   "display_name": "Python 3.8.5 ('bioenv_ver0.1')",
   "language": "python",
   "name": "python3"
  },
  "language_info": {
   "codemirror_mode": {
    "name": "ipython",
    "version": 3
   },
   "file_extension": ".py",
   "mimetype": "text/x-python",
   "name": "python",
   "nbconvert_exporter": "python",
   "pygments_lexer": "ipython3",
   "version": "3.8.5"
  },
  "orig_nbformat": 4
 },
 "nbformat": 4,
 "nbformat_minor": 2
}
