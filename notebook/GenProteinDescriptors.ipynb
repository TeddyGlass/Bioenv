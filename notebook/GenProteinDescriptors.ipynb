{
 "cells": [
  {
   "cell_type": "code",
   "execution_count": 38,
   "metadata": {},
   "outputs": [],
   "source": [
    "from PyBioMed.PyProtein import AAIndex, Autocorrelation\n",
    "from tqdm import tqdm\n",
    "import numpy as np\n",
    "import os\n",
    "import pandas as pd\n",
    "import matplotlib.pyplot as plt"
   ]
  },
  {
   "cell_type": "markdown",
   "metadata": {},
   "source": [
    "# AAindex1"
   ]
  },
  {
   "cell_type": "code",
   "execution_count": 39,
   "metadata": {},
   "outputs": [],
   "source": [
    "def AAindex1_descriptor(sequences: list):\n",
    "    # initialize\n",
    "    if not os.path.exists('aaindex1'):\n",
    "        AAIndex.GetAAIndex1('ANDN920101')\n",
    "    # get all AAindex name\n",
    "    f = open('aaindex1')\n",
    "    data = f.read()\n",
    "    idxes = []\n",
    "    for i, item in  enumerate(data.split('//')):\n",
    "        if i == len(data.split('//')) -1:\n",
    "            break\n",
    "        else:\n",
    "            idxes.append(item.split()[1])\n",
    "    # create AAindex1 dictionary\n",
    "    print('-'*100)\n",
    "    print('crating all AAindex1 dictionary ...')\n",
    "    AAindex1 = {}\n",
    "    for idx in tqdm(idxes):\n",
    "        AAindex1[idx] = AAIndex.GetAAIndex1(idx)\n",
    "    print('completed')\n",
    "    print('-'*100)\n",
    "    # calculate AAindex1 descriptor\n",
    "    print('-'*100)\n",
    "    print('calculating AAindex1 descriptors ...')\n",
    "    descriptor_matrix = np.zeros([len(sequences), len(AAindex1)])\n",
    "    for i, seq in enumerate(tqdm(sequences, total=len(sequences))):\n",
    "        for j, aaindex1_dict in enumerate(AAindex1.values()):\n",
    "            ss = []\n",
    "            for s in seq:\n",
    "                try:\n",
    "                    if aaindex1_dict[s] is not None:\n",
    "                        ss.append(aaindex1_dict[s])\n",
    "                except KeyError:\n",
    "                    pass\n",
    "            descriptor_matrix[i,j] = np.mean(ss)\n",
    "    print('completed')\n",
    "    print('-'*100)\n",
    "    return pd.DataFrame(descriptor_matrix, columns = list(AAindex1.keys()))"
   ]
  },
  {
   "cell_type": "code",
   "execution_count": 86,
   "metadata": {},
   "outputs": [],
   "source": [
    "f = open('aaindex1')\n",
    "data = f.read()\n",
    "idxes = []\n",
    "for i, item in  enumerate(data.split('//')):\n",
    "    if i == len(data.split('//')) -1:\n",
    "        break\n",
    "    else:\n",
    "        idxes.append(item.split()[1])"
   ]
  },
  {
   "cell_type": "markdown",
   "metadata": {},
   "source": []
  },
  {
   "cell_type": "code",
   "execution_count": 87,
   "metadata": {},
   "outputs": [
    {
     "data": {
      "text/plain": [
       "566"
      ]
     },
     "execution_count": 87,
     "metadata": {},
     "output_type": "execute_result"
    }
   ],
   "source": [
    "len(idxes)"
   ]
  },
  {
   "cell_type": "markdown",
   "metadata": {},
   "source": [
    "# AAindex23\n",
    "ライブラリでファイルのパースがうまくいっていないようで, AAindex2,3については算出できない"
   ]
  },
  {
   "cell_type": "markdown",
   "metadata": {},
   "source": [
    "# Autocorrelation"
   ]
  },
  {
   "cell_type": "code",
   "execution_count": 85,
   "metadata": {},
   "outputs": [],
   "source": [
    "def acc_descriptor(sequences: list):\n",
    "    descriptor_matrix = np.zeros([len(sequences), 720])\n",
    "    for i, seq in enumerate(sequences):\n",
    "        disc = Autocorrelation.CalculateAutoTotal(seq)\n",
    "        descriptor_matrix[i] = np.array(list(disc.values()))\n",
    "    return pd.DataFrame(descriptor_matrix, columns=disc.keys())"
   ]
  },
  {
   "cell_type": "markdown",
   "metadata": {},
   "source": [
    "### "
   ]
  },
  {
   "cell_type": "markdown",
   "metadata": {},
   "source": [
    "# DeepLoc data set"
   ]
  },
  {
   "cell_type": "code",
   "execution_count": 5,
   "metadata": {},
   "outputs": [
    {
     "data": {
      "text/html": [
       "<div>\n",
       "<style scoped>\n",
       "    .dataframe tbody tr th:only-of-type {\n",
       "        vertical-align: middle;\n",
       "    }\n",
       "\n",
       "    .dataframe tbody tr th {\n",
       "        vertical-align: top;\n",
       "    }\n",
       "\n",
       "    .dataframe thead th {\n",
       "        text-align: right;\n",
       "    }\n",
       "</style>\n",
       "<table border=\"1\" class=\"dataframe\">\n",
       "  <thead>\n",
       "    <tr style=\"text-align: right;\">\n",
       "      <th></th>\n",
       "      <th>input</th>\n",
       "      <th>loc</th>\n",
       "      <th>membrane</th>\n",
       "    </tr>\n",
       "  </thead>\n",
       "  <tbody>\n",
       "    <tr>\n",
       "      <th>0</th>\n",
       "      <td>MMKTLSSGNCTLNVPAKNSYRMVVLGASRVGKSSIVSRFLNGRFED...</td>\n",
       "      <td>Cell.membrane</td>\n",
       "      <td>M</td>\n",
       "    </tr>\n",
       "    <tr>\n",
       "      <th>1</th>\n",
       "      <td>MAKRTFSNLETFLIFLLVMMSAITVALLSLLFITSGTIENHKDLGG...</td>\n",
       "      <td>Cell.membrane</td>\n",
       "      <td>M</td>\n",
       "    </tr>\n",
       "    <tr>\n",
       "      <th>2</th>\n",
       "      <td>MGNCQAGHNLHLCLAHHPPLVCATLILLLLGLSGLGLGSFLLTHRT...</td>\n",
       "      <td>Cell.membrane</td>\n",
       "      <td>M</td>\n",
       "    </tr>\n",
       "    <tr>\n",
       "      <th>3</th>\n",
       "      <td>MDPSKQGTLNRVENSVYRTAFKLRSVQTLCQLDLMDSFLIQQVLWR...</td>\n",
       "      <td>Cell.membrane</td>\n",
       "      <td>M</td>\n",
       "    </tr>\n",
       "    <tr>\n",
       "      <th>4</th>\n",
       "      <td>MLLAWVQAFLVSNMLLAEAYGSGGCFWDNGHLYREDQTSPAPGLRC...</td>\n",
       "      <td>Cell.membrane</td>\n",
       "      <td>M</td>\n",
       "    </tr>\n",
       "    <tr>\n",
       "      <th>...</th>\n",
       "      <td>...</td>\n",
       "      <td>...</td>\n",
       "      <td>...</td>\n",
       "    </tr>\n",
       "    <tr>\n",
       "      <th>8459</th>\n",
       "      <td>IIECFFSCEIEKDGKSKEGKPCKPKGDKDKDKKCGGWRCKIKMCIKI</td>\n",
       "      <td>Extracellular</td>\n",
       "      <td>S</td>\n",
       "    </tr>\n",
       "    <tr>\n",
       "      <th>8460</th>\n",
       "      <td>MRVSVPVLALAFGSLAAAAPNAGRRTCGSVPPPEFFEASEKVAALE...</td>\n",
       "      <td>Extracellular</td>\n",
       "      <td>S</td>\n",
       "    </tr>\n",
       "    <tr>\n",
       "      <th>8461</th>\n",
       "      <td>MLFWTAFSMALSLRLALARSSIERGSTASDPQGDLLFLLDSSASVS...</td>\n",
       "      <td>Extracellular</td>\n",
       "      <td>S</td>\n",
       "    </tr>\n",
       "    <tr>\n",
       "      <th>8462</th>\n",
       "      <td>MMAFPPQSCVHVLPPKSIQMWEPNHNTMHGSSQSPRNYRVHDSQQM...</td>\n",
       "      <td>Extracellular</td>\n",
       "      <td>S</td>\n",
       "    </tr>\n",
       "    <tr>\n",
       "      <th>8463</th>\n",
       "      <td>MKSLYLIFGLWILLACFQSGEGVRGPRRQHNPRRQQDPSTLPHYLG...</td>\n",
       "      <td>Extracellular</td>\n",
       "      <td>S</td>\n",
       "    </tr>\n",
       "  </tbody>\n",
       "</table>\n",
       "<p>8464 rows × 3 columns</p>\n",
       "</div>"
      ],
      "text/plain": [
       "                                                  input            loc  \\\n",
       "0     MMKTLSSGNCTLNVPAKNSYRMVVLGASRVGKSSIVSRFLNGRFED...  Cell.membrane   \n",
       "1     MAKRTFSNLETFLIFLLVMMSAITVALLSLLFITSGTIENHKDLGG...  Cell.membrane   \n",
       "2     MGNCQAGHNLHLCLAHHPPLVCATLILLLLGLSGLGLGSFLLTHRT...  Cell.membrane   \n",
       "3     MDPSKQGTLNRVENSVYRTAFKLRSVQTLCQLDLMDSFLIQQVLWR...  Cell.membrane   \n",
       "4     MLLAWVQAFLVSNMLLAEAYGSGGCFWDNGHLYREDQTSPAPGLRC...  Cell.membrane   \n",
       "...                                                 ...            ...   \n",
       "8459    IIECFFSCEIEKDGKSKEGKPCKPKGDKDKDKKCGGWRCKIKMCIKI  Extracellular   \n",
       "8460  MRVSVPVLALAFGSLAAAAPNAGRRTCGSVPPPEFFEASEKVAALE...  Extracellular   \n",
       "8461  MLFWTAFSMALSLRLALARSSIERGSTASDPQGDLLFLLDSSASVS...  Extracellular   \n",
       "8462  MMAFPPQSCVHVLPPKSIQMWEPNHNTMHGSSQSPRNYRVHDSQQM...  Extracellular   \n",
       "8463  MKSLYLIFGLWILLACFQSGEGVRGPRRQHNPRRQQDPSTLPHYLG...  Extracellular   \n",
       "\n",
       "      membrane  \n",
       "0            M  \n",
       "1            M  \n",
       "2            M  \n",
       "3            M  \n",
       "4            M  \n",
       "...        ...  \n",
       "8459         S  \n",
       "8460         S  \n",
       "8461         S  \n",
       "8462         S  \n",
       "8463         S  \n",
       "\n",
       "[8464 rows x 3 columns]"
      ]
     },
     "execution_count": 5,
     "metadata": {},
     "output_type": "execute_result"
    }
   ],
   "source": [
    "df = pd.read_csv('../data/DeepLoc/DeepLocAll.csv')\n",
    "sequences = df.iloc[:,0].tolist()\n",
    "sequences = [''.join(s.split()) for s in sequences]\n",
    "df.iloc[:,0] = sequences"
   ]
  },
  {
   "cell_type": "code",
   "execution_count": null,
   "metadata": {},
   "outputs": [],
   "source": []
  }
 ],
 "metadata": {
  "interpreter": {
   "hash": "b3e12de8d4f511a3f40a134d20c84f219b709a35adcae8dcc2b376a736afcf2a"
  },
  "kernelspec": {
   "display_name": "Python 3.8.5 ('bioenv_ver0.1')",
   "language": "python",
   "name": "python3"
  },
  "language_info": {
   "codemirror_mode": {
    "name": "ipython",
    "version": 3
   },
   "file_extension": ".py",
   "mimetype": "text/x-python",
   "name": "python",
   "nbconvert_exporter": "python",
   "pygments_lexer": "ipython3",
   "version": "3.8.5"
  },
  "orig_nbformat": 4
 },
 "nbformat": 4,
 "nbformat_minor": 2
}
