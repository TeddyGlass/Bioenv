{
 "cells": [
  {
   "cell_type": "code",
   "execution_count": 15,
   "metadata": {},
   "outputs": [],
   "source": [
    "import requests\n",
    "import pandas as pd\n",
    "import os\n",
    "from tqdm import tqdm\n",
    "from Bio import SeqIO\n",
    "import numpy as np"
   ]
  },
  {
   "cell_type": "code",
   "execution_count": 2,
   "metadata": {},
   "outputs": [
    {
     "name": "stdout",
     "output_type": "stream",
     "text": [
      "all proteins: 4424\n"
     ]
    }
   ],
   "source": [
    "df = pd.read_csv('../data/DeepPPI/SupplementaryS1.csv')\n",
    "\n",
    "proteinA = list(df.proteinA.unique())\n",
    "proteinB = list(df.proteinB.unique())\n",
    "all_protein = list(set(proteinA+proteinB))\n",
    "print('all proteins:', len(all_protein))"
   ]
  },
  {
   "cell_type": "code",
   "execution_count": 3,
   "metadata": {},
   "outputs": [
    {
     "name": "stderr",
     "output_type": "stream",
     "text": [
      "100%|██████████| 4424/4424 [50:56<00:00,  1.45it/s] \n"
     ]
    }
   ],
   "source": [
    "f_name = '../data/DeepPPI/DeepPPI.fasta'\n",
    "f = open(f_name, 'wb')\n",
    "logger = []\n",
    "for i, Id in tqdm(enumerate(all_protein), total=len(all_protein)):\n",
    "    try:\n",
    "        url = f'https://www.uniprot.org/uniprot/{Id}.fasta'\n",
    "        record = requests.get(url, stream=True).content\n",
    "        f.write(record)\n",
    "    except Exception as e:\n",
    "        logger.append((i,e))\n",
    "        print(i, e)\n",
    "f.close()"
   ]
  },
  {
   "cell_type": "code",
   "execution_count": 10,
   "metadata": {},
   "outputs": [
    {
     "name": "stderr",
     "output_type": "stream",
     "text": [
      "100%|██████████| 4424/4424 [00:00<00:00, 27112.89it/s]\n"
     ]
    }
   ],
   "source": [
    "fasta_path = '../data/DeepPPI/DeepPPI.fasta'\n",
    "\n",
    "seq_dict = {}\n",
    "for i, record in enumerate(tqdm(SeqIO.parse(fasta_path, 'fasta'), total=4424)):\n",
    "    Id = record.id.split('|')[1]\n",
    "    seq = record.seq\n",
    "    seq_dict[str(Id)] = seq"
   ]
  },
  {
   "cell_type": "code",
   "execution_count": 33,
   "metadata": {},
   "outputs": [],
   "source": [
    "proteinA_seq = []\n",
    "proteinB_seq = []\n",
    "for IdA, IdB in zip(df['proteinA'], df['proteinB']):\n",
    "    proteinA_seq.append(str(seq_dict[IdA]))\n",
    "    proteinB_seq.append(str(seq_dict[IdB]))"
   ]
  },
  {
   "cell_type": "code",
   "execution_count": 36,
   "metadata": {},
   "outputs": [],
   "source": [
    "df['proteinA_seq'] = proteinA_seq\n",
    "df['proteinB_seq'] = proteinB_seq"
   ]
  },
  {
   "cell_type": "code",
   "execution_count": 38,
   "metadata": {},
   "outputs": [],
   "source": [
    "df.to_csv('../data/DeepPPI/DeepPPIAll.csv', index=False)"
   ]
  },
  {
   "cell_type": "code",
   "execution_count": null,
   "metadata": {},
   "outputs": [],
   "source": []
  }
 ],
 "metadata": {
  "interpreter": {
   "hash": "b3e12de8d4f511a3f40a134d20c84f219b709a35adcae8dcc2b376a736afcf2a"
  },
  "kernelspec": {
   "display_name": "Python 3.8.5 ('bioenv_ver0.1')",
   "language": "python",
   "name": "python3"
  },
  "language_info": {
   "codemirror_mode": {
    "name": "ipython",
    "version": 3
   },
   "file_extension": ".py",
   "mimetype": "text/x-python",
   "name": "python",
   "nbconvert_exporter": "python",
   "pygments_lexer": "ipython3",
   "version": "3.8.5"
  },
  "orig_nbformat": 4
 },
 "nbformat": 4,
 "nbformat_minor": 2
}
