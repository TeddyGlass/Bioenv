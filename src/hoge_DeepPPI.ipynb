{
 "cells": [
  {
   "cell_type": "code",
   "execution_count": 1,
   "metadata": {},
   "outputs": [],
   "source": [
    "import numpy as np\n",
    "import pandas as pd"
   ]
  },
  {
   "cell_type": "code",
   "execution_count": 2,
   "metadata": {},
   "outputs": [],
   "source": [
    "df_core = pd.read_csv('../data/DeepPPI/DeepPPIAll.csv')\n",
    "protein_a = np.array(df_core['proteinA'])\n",
    "protein_b = np.array(df_core['proteinB'])\n",
    "y = np.array(df_core['interaction'])"
   ]
  },
  {
   "cell_type": "code",
   "execution_count": 3,
   "metadata": {},
   "outputs": [
    {
     "data": {
      "text/html": [
       "<div>\n",
       "<style scoped>\n",
       "    .dataframe tbody tr th:only-of-type {\n",
       "        vertical-align: middle;\n",
       "    }\n",
       "\n",
       "    .dataframe tbody tr th {\n",
       "        vertical-align: top;\n",
       "    }\n",
       "\n",
       "    .dataframe thead th {\n",
       "        text-align: right;\n",
       "    }\n",
       "</style>\n",
       "<table border=\"1\" class=\"dataframe\">\n",
       "  <thead>\n",
       "    <tr style=\"text-align: right;\">\n",
       "      <th></th>\n",
       "      <th>proteinA</th>\n",
       "      <th>proteinB</th>\n",
       "      <th>interaction</th>\n",
       "      <th>proteinA_seq</th>\n",
       "      <th>proteinB_seq</th>\n",
       "    </tr>\n",
       "  </thead>\n",
       "  <tbody>\n",
       "    <tr>\n",
       "      <th>0</th>\n",
       "      <td>P09798</td>\n",
       "      <td>P09798</td>\n",
       "      <td>1</td>\n",
       "      <td>MKFCLYCCHCYIVICGKATHYYKSSKATSNLKSSNRVLMRNPMSPS...</td>\n",
       "      <td>MKFCLYCCHCYIVICGKATHYYKSSKATSNLKSSNRVLMRNPMSPS...</td>\n",
       "    </tr>\n",
       "    <tr>\n",
       "      <th>1</th>\n",
       "      <td>P38717</td>\n",
       "      <td>P06782</td>\n",
       "      <td>1</td>\n",
       "      <td>MSVHGRDPKKRQLRLISVAFKEASIDSPSFRASVNFFQTRVDALED...</td>\n",
       "      <td>MSSNNNTNTAPANANSSHHHHHHHHHHHHHGHGGSNSTLNNPKSSL...</td>\n",
       "    </tr>\n",
       "    <tr>\n",
       "      <th>2</th>\n",
       "      <td>P07342</td>\n",
       "      <td>P25605</td>\n",
       "      <td>1</td>\n",
       "      <td>MIRQSTLKNFAIKRCFQHIAYRNTPAMRSVALAQRFYSSSSRYYSA...</td>\n",
       "      <td>MLRSLLQSGHRRVVASSCATMVRCSSSSTSALAYKQMHRHATRPPL...</td>\n",
       "    </tr>\n",
       "    <tr>\n",
       "      <th>3</th>\n",
       "      <td>P15790</td>\n",
       "      <td>P38930</td>\n",
       "      <td>1</td>\n",
       "      <td>MKCRVWSEARVYTNINKQRTEEYWDYENTVIDWSTNTKDYEIENKV...</td>\n",
       "      <td>MGSRSENVGTVTREGSRVEQDDVLMDDDSDSSEYVDMWIDLFLGRK...</td>\n",
       "    </tr>\n",
       "    <tr>\n",
       "      <th>4</th>\n",
       "      <td>P22035</td>\n",
       "      <td>P07269</td>\n",
       "      <td>1</td>\n",
       "      <td>MSNISTKDIRKSKPKRGSGFDLLEVTESLGYQTHRKNGRNSWSKDD...</td>\n",
       "      <td>MMEEFSYDHDFNTHFATDLDYLQHDQQQQQQQQHDQQHNQQQQPQP...</td>\n",
       "    </tr>\n",
       "    <tr>\n",
       "      <th>...</th>\n",
       "      <td>...</td>\n",
       "      <td>...</td>\n",
       "      <td>...</td>\n",
       "      <td>...</td>\n",
       "      <td>...</td>\n",
       "    </tr>\n",
       "    <tr>\n",
       "      <th>65846</th>\n",
       "      <td>P53184</td>\n",
       "      <td>P22855</td>\n",
       "      <td>0</td>\n",
       "      <td>MKTLIVVDMQNDFISPLGSLTVPKGEELINPISDLMQDADRDWHRI...</td>\n",
       "      <td>MSSEDIIYDPQFKPVQGIYENRLRQFIDTGGDYHDLNLPKFYDKKR...</td>\n",
       "    </tr>\n",
       "    <tr>\n",
       "      <th>65847</th>\n",
       "      <td>P53184</td>\n",
       "      <td>P36062</td>\n",
       "      <td>0</td>\n",
       "      <td>MKTLIVVDMQNDFISPLGSLTVPKGEELINPISDLMQDADRDWHRI...</td>\n",
       "      <td>MNGKEVSSGSGRTQSNNNKKNNNGGSTGISHASGSPLTDGNGGNSN...</td>\n",
       "    </tr>\n",
       "    <tr>\n",
       "      <th>65848</th>\n",
       "      <td>P53184</td>\n",
       "      <td>Q08236</td>\n",
       "      <td>0</td>\n",
       "      <td>MKTLIVVDMQNDFISPLGSLTVPKGEELINPISDLMQDADRDWHRI...</td>\n",
       "      <td>MDTVTVLNELRAQFLRVCPEKDQMKRIIKPYIPVDEFNTEQCLDSS...</td>\n",
       "    </tr>\n",
       "    <tr>\n",
       "      <th>65849</th>\n",
       "      <td>P53184</td>\n",
       "      <td>Q12331</td>\n",
       "      <td>0</td>\n",
       "      <td>MKTLIVVDMQNDFISPLGSLTVPKGEELINPISDLMQDADRDWHRI...</td>\n",
       "      <td>MIFNLPVSVLLYFSLIWAMEPSFVRGKNVVNLITFKDSNGKLHKRL...</td>\n",
       "    </tr>\n",
       "    <tr>\n",
       "      <th>65850</th>\n",
       "      <td>P53184</td>\n",
       "      <td>Q12527</td>\n",
       "      <td>0</td>\n",
       "      <td>MKTLIVVDMQNDFISPLGSLTVPKGEELINPISDLMQDADRDWHRI...</td>\n",
       "      <td>MADADEYSTAPTQQEITPLQTTATIINAISGECITTNVDFFVSLDK...</td>\n",
       "    </tr>\n",
       "  </tbody>\n",
       "</table>\n",
       "<p>65851 rows × 5 columns</p>\n",
       "</div>"
      ],
      "text/plain": [
       "      proteinA proteinB  interaction  \\\n",
       "0       P09798   P09798            1   \n",
       "1       P38717   P06782            1   \n",
       "2       P07342   P25605            1   \n",
       "3       P15790   P38930            1   \n",
       "4       P22035   P07269            1   \n",
       "...        ...      ...          ...   \n",
       "65846   P53184   P22855            0   \n",
       "65847   P53184   P36062            0   \n",
       "65848   P53184   Q08236            0   \n",
       "65849   P53184   Q12331            0   \n",
       "65850   P53184   Q12527            0   \n",
       "\n",
       "                                            proteinA_seq  \\\n",
       "0      MKFCLYCCHCYIVICGKATHYYKSSKATSNLKSSNRVLMRNPMSPS...   \n",
       "1      MSVHGRDPKKRQLRLISVAFKEASIDSPSFRASVNFFQTRVDALED...   \n",
       "2      MIRQSTLKNFAIKRCFQHIAYRNTPAMRSVALAQRFYSSSSRYYSA...   \n",
       "3      MKCRVWSEARVYTNINKQRTEEYWDYENTVIDWSTNTKDYEIENKV...   \n",
       "4      MSNISTKDIRKSKPKRGSGFDLLEVTESLGYQTHRKNGRNSWSKDD...   \n",
       "...                                                  ...   \n",
       "65846  MKTLIVVDMQNDFISPLGSLTVPKGEELINPISDLMQDADRDWHRI...   \n",
       "65847  MKTLIVVDMQNDFISPLGSLTVPKGEELINPISDLMQDADRDWHRI...   \n",
       "65848  MKTLIVVDMQNDFISPLGSLTVPKGEELINPISDLMQDADRDWHRI...   \n",
       "65849  MKTLIVVDMQNDFISPLGSLTVPKGEELINPISDLMQDADRDWHRI...   \n",
       "65850  MKTLIVVDMQNDFISPLGSLTVPKGEELINPISDLMQDADRDWHRI...   \n",
       "\n",
       "                                            proteinB_seq  \n",
       "0      MKFCLYCCHCYIVICGKATHYYKSSKATSNLKSSNRVLMRNPMSPS...  \n",
       "1      MSSNNNTNTAPANANSSHHHHHHHHHHHHHGHGGSNSTLNNPKSSL...  \n",
       "2      MLRSLLQSGHRRVVASSCATMVRCSSSSTSALAYKQMHRHATRPPL...  \n",
       "3      MGSRSENVGTVTREGSRVEQDDVLMDDDSDSSEYVDMWIDLFLGRK...  \n",
       "4      MMEEFSYDHDFNTHFATDLDYLQHDQQQQQQQQHDQQHNQQQQPQP...  \n",
       "...                                                  ...  \n",
       "65846  MSSEDIIYDPQFKPVQGIYENRLRQFIDTGGDYHDLNLPKFYDKKR...  \n",
       "65847  MNGKEVSSGSGRTQSNNNKKNNNGGSTGISHASGSPLTDGNGGNSN...  \n",
       "65848  MDTVTVLNELRAQFLRVCPEKDQMKRIIKPYIPVDEFNTEQCLDSS...  \n",
       "65849  MIFNLPVSVLLYFSLIWAMEPSFVRGKNVVNLITFKDSNGKLHKRL...  \n",
       "65850  MADADEYSTAPTQQEITPLQTTATIINAISGECITTNVDFFVSLDK...  \n",
       "\n",
       "[65851 rows x 5 columns]"
      ]
     },
     "execution_count": 3,
     "metadata": {},
     "output_type": "execute_result"
    }
   ],
   "source": [
    "df_core"
   ]
  },
  {
   "cell_type": "code",
   "execution_count": 13,
   "metadata": {},
   "outputs": [],
   "source": [
    "df_feature = pd.read_csv('../data/DeepPPI/DeepPPIDescriptorAutocorrelation.csv')\n",
    "feature_dict = {\n",
    "    Id:np.array(df_feature[df_feature.iloc[:,0]==Id].iloc[:,1:])\n",
    "    for Id in df_feature.iloc[:,0].tolist()\n",
    "}\n",
    "feature_a, feature_b = [], []\n",
    "for a, b in zip(protein_a, protein_b):\n",
    "    feature_a.append(feature_dict[a])\n",
    "    feature_b.append(feature_dict[b])\n",
    "X_a, X_b = np.concatenate(feature_a), np.concatenate(feature_b)\n",
    "X = np.concatenate([X_a, X_b], axis=1)"
   ]
  },
  {
   "cell_type": "code",
   "execution_count": 16,
   "metadata": {},
   "outputs": [
    {
     "data": {
      "text/plain": [
       "0"
      ]
     },
     "execution_count": 16,
     "metadata": {},
     "output_type": "execute_result"
    }
   ],
   "source": [
    "np.isnan(X).sum()"
   ]
  },
  {
   "cell_type": "code",
   "execution_count": 9,
   "metadata": {},
   "outputs": [
    {
     "data": {
      "text/plain": [
       "(65851, 720)"
      ]
     },
     "execution_count": 9,
     "metadata": {},
     "output_type": "execute_result"
    }
   ],
   "source": [
    "X_a.shape"
   ]
  }
 ],
 "metadata": {
  "interpreter": {
   "hash": "b3e12de8d4f511a3f40a134d20c84f219b709a35adcae8dcc2b376a736afcf2a"
  },
  "kernelspec": {
   "display_name": "Python 3.8.5 ('bioenv_ver0.1')",
   "language": "python",
   "name": "python3"
  },
  "language_info": {
   "codemirror_mode": {
    "name": "ipython",
    "version": 3
   },
   "file_extension": ".py",
   "mimetype": "text/x-python",
   "name": "python",
   "nbconvert_exporter": "python",
   "pygments_lexer": "ipython3",
   "version": "3.8.5"
  },
  "orig_nbformat": 4
 },
 "nbformat": 4,
 "nbformat_minor": 2
}
