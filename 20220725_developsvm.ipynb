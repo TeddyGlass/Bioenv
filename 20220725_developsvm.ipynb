{
 "cells": [
  {
   "cell_type": "code",
   "execution_count": 39,
   "metadata": {},
   "outputs": [],
   "source": [
    "import numpy as np\n",
    "from sklearn.svm import SVC\n",
    "from sklearn.datasets import load_breast_cancer\n",
    "from sklearn.model_selection import StratifiedKFold\n",
    "from sklearn.preprocessing import StandardScaler, MinMaxScaler\n",
    "from sklearn.decomposition import PCA\n",
    "from sklearn.metrics import (\n",
    "    roc_curve,\n",
    "    confusion_matrix,\n",
    "    accuracy_score,\n",
    "    matthews_corrcoef,\n",
    "    roc_auc_score,\n",
    "    log_loss\n",
    ")"
   ]
  },
  {
   "cell_type": "code",
   "execution_count": 2,
   "metadata": {},
   "outputs": [],
   "source": [
    "def roc_cutoff(y_true, y_pred):\n",
    "    fpr, tpr, thresholds = roc_curve(y_true, y_pred)\n",
    "    cutoff = thresholds[np.argmax(tpr - fpr)]\n",
    "    return cutoff\n",
    "\n",
    "\n",
    "def evaluate_clf(y_true, y_pred, cutoff):\n",
    "    pred_label = (y_pred >= cutoff) * 1\n",
    "    tn, fp, fn, tp = confusion_matrix(y_true, pred_label).ravel()\n",
    "    accuracy = accuracy_score(y_true, pred_label)\n",
    "    balanced_accuracy = (tp / (tp + fn) + tn / (tn + fp)) / 2\n",
    "    mcc = matthews_corrcoef(y_true, pred_label)\n",
    "    sensitivity = tp / (tp + fn)\n",
    "    specificity = tn / (tn + fp)\n",
    "    auc = roc_auc_score(y_true, y_pred)\n",
    "    metrics = {\n",
    "        'auc': [auc],\n",
    "        'acc': [accuracy],\n",
    "        'sen': [sensitivity],\n",
    "        'spe': [specificity],\n",
    "        'bac': [balanced_accuracy],\n",
    "        'mcc': [mcc],\n",
    "        'cutoff': [cutoff]\n",
    "    }\n",
    "    return metrics"
   ]
  },
  {
   "cell_type": "code",
   "execution_count": 3,
   "metadata": {},
   "outputs": [],
   "source": [
    "cancer = load_breast_cancer()\n",
    "X = cancer['data']\n",
    "y = cancer['target']"
   ]
  },
  {
   "cell_type": "code",
   "execution_count": 31,
   "metadata": {},
   "outputs": [
    {
     "data": {
      "text/plain": [
       "SVC(C=1.5, gamma=0.5)"
      ]
     },
     "execution_count": 31,
     "metadata": {},
     "output_type": "execute_result"
    }
   ],
   "source": [
    "skf = StratifiedKFold(n_splits=4, shuffle=True, random_state=1400)\n",
    "tr_idx, te_idx = list(skf.split(X,y))[0]\n",
    "X_train, y_train = X[tr_idx], y[tr_idx]\n",
    "X_test, y_test = X[te_idx], y[te_idx]\n",
    "\n",
    "clf = SVC(\n",
    "    C=1.5,\n",
    "    gamma=0.5,\n",
    "    kernel='rbf'\n",
    ")\n",
    "clf.fit(X,y)"
   ]
  },
  {
   "cell_type": "code",
   "execution_count": 45,
   "metadata": {},
   "outputs": [],
   "source": [
    "scaler = MinMaxScaler()\n",
    "y_pred_te = scaler.fit_transform(clf.decision_function(X_test).reshape(-1,1)).flatten()\n",
    "cutoff = roc_cutoff(y[tr_idx], clf.decision_function(X[tr_idx]))"
   ]
  },
  {
   "cell_type": "code",
   "execution_count": 49,
   "metadata": {},
   "outputs": [
    {
     "data": {
      "text/plain": [
       "array([[<AxesSubplot:title={'center':'0'}>]], dtype=object)"
      ]
     },
     "execution_count": 49,
     "metadata": {},
     "output_type": "execute_result"
    },
    {
     "data": {
      "image/png": "[encoded data removed]",
      "text/plain": [
       "<Figure size 432x288 with 1 Axes>"
      ]
     },
     "metadata": {
      "needs_background": "light"
     },
     "output_type": "display_data"
    }
   ],
   "source": [
    "import pandas as pd\n",
    "pd.DataFrame(y_pred_te).hist()\n"
   ]
  },
  {
   "cell_type": "code",
   "execution_count": 50,
   "metadata": {},
   "outputs": [
    {
     "data": {
      "text/plain": [
       "0.00027608813670793557"
      ]
     },
     "execution_count": 50,
     "metadata": {},
     "output_type": "execute_result"
    }
   ],
   "source": [
    "log_loss(y[te_idx], y_pred_te)"
   ]
  },
  {
   "cell_type": "code",
   "execution_count": 38,
   "metadata": {},
   "outputs": [
    {
     "data": {
      "text/plain": [
       "array([3.19474811e-06, 2.26035845e-06, 1.12859801e-06, 9.27249136e-07,\n",
       "       1.83648828e-07, 9.23659379e-07, 2.04424899e-09, 4.55977522e-09,\n",
       "       2.00000427e+00, 1.83644580e-07, 1.83648824e-07, 2.06045869e-09,\n",
       "       4.11277453e-07, 4.72191597e-09, 4.72191597e-09, 0.00000000e+00,\n",
       "       1.12858383e-06, 1.12858382e-06, 2.00000252e+00, 2.00097571e+00,\n",
       "       2.00097571e+00, 1.12437172e-06, 2.00097571e+00, 1.12859801e-06,\n",
       "       1.12859801e-06, 2.00000093e+00, 1.12859060e-06, 2.00097571e+00,\n",
       "       1.32584823e-06, 2.00097571e+00, 2.00000520e+00, 2.26035564e-06,\n",
       "       2.00000427e+00, 2.52586419e-06, 2.00000427e+00, 2.00000093e+00,\n",
       "       2.52585860e-06, 2.00000092e+00, 2.52585911e-06, 4.26842220e-06,\n",
       "       2.00000253e+00, 3.19331142e-06, 3.19360863e-06, 2.00000153e+00,\n",
       "       2.00000226e+00, 2.00000133e+00, 2.00000113e+00, 2.00000113e+00,\n",
       "       2.00000113e+00, 2.04415773e-09, 2.00000092e+00, 2.00000093e+00,\n",
       "       2.00000082e+00, 2.00000000e+00, 1.84709267e-07, 4.72191597e-09,\n",
       "       4.72191597e-09, 2.00000000e+00, 2.00000001e+00, 1.83648827e-07,\n",
       "       2.00000018e+00, 2.00000018e+00, 2.00000018e+00, 1.83648824e-07,\n",
       "       1.83644429e-07, 2.00000093e+00, 2.00000093e+00, 2.00000092e+00,\n",
       "       2.00000113e+00, 9.24715494e-07, 9.24742412e-07, 9.27249235e-07,\n",
       "       2.00000092e+00, 2.00000113e+00, 2.00000133e+00, 2.00000226e+00,\n",
       "       2.00000133e+00, 2.00000253e+00, 2.00000319e+00, 1.12859801e-06,\n",
       "       2.00000000e+00, 2.00000000e+00, 2.00000204e+00, 1.12859060e-06,\n",
       "       2.00000018e+00, 2.00000754e+00, 1.32585285e-06, 2.00000018e+00,\n",
       "       2.00000000e+00, 2.00000041e+00, 2.00000038e+00, 2.00000092e+00,\n",
       "       2.00000093e+00, 1.52975845e-06, 2.00000092e+00, 2.00000133e+00,\n",
       "       2.00000113e+00, 2.26034439e-06, 2.00000000e+00, 2.00000319e+00,\n",
       "       2.00000133e+00, 2.00000092e+00, 2.00097571e+00, 2.00000018e+00,\n",
       "       2.00000253e+00, 2.00000214e+00, 2.00000253e+00, 2.00000253e+00,\n",
       "       2.00000018e+00, 2.00000113e+00, 2.00000253e+00, 2.00000253e+00,\n",
       "       2.00000253e+00, 2.00000253e+00, 2.52585939e-06, 2.52585912e-06,\n",
       "       2.00000018e+00, 2.00000319e+00, 2.00000319e+00, 2.00097571e+00,\n",
       "       2.00000520e+00, 2.00097571e+00, 2.00000252e+00, 2.52586395e-06,\n",
       "       2.00000018e+00, 2.00097571e+00, 2.52594465e-06, 2.52591342e-06,\n",
       "       2.00000253e+00, 3.19475937e-06, 2.00000133e+00, 2.00000133e+00,\n",
       "       2.00000113e+00, 2.00000092e+00, 3.19474417e-06, 2.00000093e+00,\n",
       "       2.00000253e+00, 2.00000092e+00, 2.00000092e+00, 2.00000113e+00,\n",
       "       2.00000153e+00, 3.19237399e-06, 3.19237399e-06])"
      ]
     },
     "execution_count": 38,
     "metadata": {},
     "output_type": "execute_result"
    }
   ],
   "source": [
    "y_pred_te + np.abs(np.min(y_pred_te))"
   ]
  },
  {
   "cell_type": "code",
   "execution_count": 34,
   "metadata": {},
   "outputs": [
    {
     "data": {
      "text/plain": [
       "array([-1.00004809, -1.00004903, -1.00005016, -1.00005036, -1.00005111,\n",
       "       -1.00005037, -1.00005129, -1.00005129,  0.99995298, -1.00005111,\n",
       "       -1.00005111, -1.00005129, -1.00005088, -1.00005128, -1.00005128,\n",
       "       -1.00005129, -1.00005016, -1.00005016,  0.99995123,  1.00092442,\n",
       "        1.00092442, -1.00005017,  1.00092442, -1.00005016, -1.00005016,\n",
       "        0.99994964, -1.00005016,  1.00092442, -1.00004996,  1.00092442,\n",
       "        0.99995391, -1.00004903,  0.99995298, -1.00004876,  0.99995298,\n",
       "        0.99994964, -1.00004876,  0.99994964, -1.00004876, -1.00004702,\n",
       "        0.99995124, -1.0000481 , -1.0000481 ,  0.99995024,  0.99995097,\n",
       "        0.99995004,  0.99994984,  0.99994984,  0.99994984, -1.00005129,\n",
       "        0.99994964,  0.99994964,  0.99994953,  0.99994871, -1.0000511 ,\n",
       "       -1.00005128, -1.00005128,  0.99994871,  0.99994872, -1.00005111,\n",
       "        0.99994889,  0.99994889,  0.99994889, -1.00005111, -1.00005111,\n",
       "        0.99994964,  0.99994964,  0.99994964,  0.99994984, -1.00005036,\n",
       "       -1.00005036, -1.00005036,  0.99994964,  0.99994984,  0.99995004,\n",
       "        0.99995097,  0.99995004,  0.99995124,  0.99995191, -1.00005016,\n",
       "        0.99994871,  0.99994871,  0.99995075, -1.00005016,  0.9999489 ,\n",
       "        0.99995625, -1.00004996,  0.9999489 ,  0.99994871,  0.99994912,\n",
       "        0.99994909,  0.99994964,  0.99994964, -1.00004976,  0.99994964,\n",
       "        0.99995004,  0.99994984, -1.00004903,  0.99994871,  0.99995191,\n",
       "        0.99995004,  0.99994964,  1.00092442,  0.9999489 ,  0.99995124,\n",
       "        0.99995085,  0.99995124,  0.99995124,  0.99994889,  0.99994984,\n",
       "        0.99995124,  0.99995124,  0.99995124,  0.99995124, -1.00004876,\n",
       "       -1.00004876,  0.9999489 ,  0.9999519 ,  0.9999519 ,  1.00092442,\n",
       "        0.99995391,  1.00092442,  0.99995123, -1.00004876,  0.99994889,\n",
       "        1.00092442, -1.00004876, -1.00004876,  0.99995124, -1.00004809,\n",
       "        0.99995004,  0.99995004,  0.99994984,  0.99994964, -1.00004809,\n",
       "        0.99994964,  0.99995124,  0.99994964,  0.99994964,  0.99994984,\n",
       "        0.99995024, -1.0000481 , -1.0000481 ])"
      ]
     },
     "execution_count": 34,
     "metadata": {},
     "output_type": "execute_result"
    }
   ],
   "source": [
    "y_pred_te"
   ]
  },
  {
   "cell_type": "code",
   "execution_count": 29,
   "metadata": {},
   "outputs": [
    {
     "data": {
      "text/plain": [
       "0.6293706293706294"
      ]
     },
     "execution_count": 29,
     "metadata": {},
     "output_type": "execute_result"
    }
   ],
   "source": [
    "accuracy_score(y[te_idx], (y_pred_te>0)*1)"
   ]
  },
  {
   "cell_type": "code",
   "execution_count": 19,
   "metadata": {},
   "outputs": [
    {
     "data": {
      "text/plain": [
       "array([-1.00004809, -1.00004903, -1.00005016, -1.00005036, -1.00005111,\n",
       "       -1.00005037, -1.00005129, -1.00005129,  0.99995298, -1.00005111,\n",
       "       -1.00005111, -1.00005129, -1.00005088, -1.00005128, -1.00005128,\n",
       "       -1.00005129, -1.00005016, -1.00005016,  0.99995123,  1.00092442,\n",
       "        1.00092442, -1.00005017,  1.00092442, -1.00005016, -1.00005016,\n",
       "        0.99994964, -1.00005016,  1.00092442, -1.00004996,  1.00092442,\n",
       "        0.99995391, -1.00004903,  0.99995298, -1.00004876,  0.99995298,\n",
       "        0.99994964, -1.00004876,  0.99994964, -1.00004876, -1.00004702,\n",
       "        0.99995124, -1.0000481 , -1.0000481 ,  0.99995024,  0.99995097,\n",
       "        0.99995004,  0.99994984,  0.99994984,  0.99994984, -1.00005129,\n",
       "        0.99994964,  0.99994964,  0.99994953,  0.99994871, -1.0000511 ,\n",
       "       -1.00005128, -1.00005128,  0.99994871,  0.99994872, -1.00005111,\n",
       "        0.99994889,  0.99994889,  0.99994889, -1.00005111, -1.00005111,\n",
       "        0.99994964,  0.99994964,  0.99994964,  0.99994984, -1.00005036,\n",
       "       -1.00005036, -1.00005036,  0.99994964,  0.99994984,  0.99995004,\n",
       "        0.99995097,  0.99995004,  0.99995124,  0.99995191, -1.00005016,\n",
       "        0.99994871,  0.99994871,  0.99995075, -1.00005016,  0.9999489 ,\n",
       "        0.99995625, -1.00004996,  0.9999489 ,  0.99994871,  0.99994912,\n",
       "        0.99994909,  0.99994964,  0.99994964, -1.00004976,  0.99994964,\n",
       "        0.99995004,  0.99994984, -1.00004903,  0.99994871,  0.99995191,\n",
       "        0.99995004,  0.99994964,  1.00092442,  0.9999489 ,  0.99995124,\n",
       "        0.99995085,  0.99995124,  0.99995124,  0.99994889,  0.99994984,\n",
       "        0.99995124,  0.99995124,  0.99995124,  0.99995124, -1.00004876,\n",
       "       -1.00004876,  0.9999489 ,  0.9999519 ,  0.9999519 ,  1.00092442,\n",
       "        0.99995391,  1.00092442,  0.99995123, -1.00004876,  0.99994889,\n",
       "        1.00092442, -1.00004876, -1.00004876,  0.99995124, -1.00004809,\n",
       "        0.99995004,  0.99995004,  0.99994984,  0.99994964, -1.00004809,\n",
       "        0.99994964,  0.99995124,  0.99994964,  0.99994964,  0.99994984,\n",
       "        0.99995024, -1.0000481 , -1.0000481 ])"
      ]
     },
     "execution_count": 19,
     "metadata": {},
     "output_type": "execute_result"
    }
   ],
   "source": [
    "y_pred_te"
   ]
  },
  {
   "cell_type": "code",
   "execution_count": 12,
   "metadata": {},
   "outputs": [
    {
     "data": {
      "text/plain": [
       "array([0, 0, 0, 0, 0, 0, 0, 0, 1, 0, 0, 0, 0, 0, 0, 0, 0, 0, 1, 1, 1, 0,\n",
       "       1, 0, 0, 1, 0, 1, 0, 1, 1, 0, 1, 0, 1, 1, 0, 1, 0, 0, 1, 0, 0, 1,\n",
       "       1, 1, 1, 1, 1, 0, 1, 1, 1, 1, 0, 0, 0, 1, 1, 0, 1, 1, 1, 0, 0, 1,\n",
       "       1, 1, 1, 0, 0, 0, 1, 1, 1, 1, 1, 1, 1, 0, 1, 1, 1, 0, 1, 1, 0, 1,\n",
       "       1, 1, 1, 1, 1, 0, 1, 1, 1, 0, 1, 1, 1, 1, 1, 1, 1, 1, 1, 1, 1, 1,\n",
       "       1, 1, 1, 1, 0, 0, 1, 1, 1, 1, 1, 1, 1, 0, 1, 1, 0, 0, 1, 0, 1, 1,\n",
       "       1, 1, 0, 1, 1, 1, 1, 1, 1, 0, 0])"
      ]
     },
     "execution_count": 12,
     "metadata": {},
     "output_type": "execute_result"
    }
   ],
   "source": [
    "y_test"
   ]
  },
  {
   "cell_type": "code",
   "execution_count": null,
   "metadata": {},
   "outputs": [],
   "source": []
  }
 ],
 "metadata": {
  "interpreter": {
   "hash": "b3e12de8d4f511a3f40a134d20c84f219b709a35adcae8dcc2b376a736afcf2a"
  },
  "kernelspec": {
   "display_name": "Python 3.8.5 ('bioenv_ver0.1')",
   "language": "python",
   "name": "python3"
  },
  "language_info": {
   "codemirror_mode": {
    "name": "ipython",
    "version": 3
   },
   "file_extension": ".py",
   "mimetype": "text/x-python",
   "name": "python",
   "nbconvert_exporter": "python",
   "pygments_lexer": "ipython3",
   "version": "3.8.5"
  },
  "orig_nbformat": 4
 },
 "nbformat": 4,
 "nbformat_minor": 2
}
